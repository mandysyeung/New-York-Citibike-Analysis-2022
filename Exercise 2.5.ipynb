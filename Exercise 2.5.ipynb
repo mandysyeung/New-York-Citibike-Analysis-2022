{
 "cells": [
  {
   "cell_type": "code",
   "execution_count": 1,
   "id": "64ec71f8-6465-4044-a479-e0123f35a865",
   "metadata": {
    "tags": []
   },
   "outputs": [],
   "source": [
    "import pandas as pd\n",
    "import os\n",
    "from keplergl import KeplerGl\n",
    "from pyproj import CRS \n",
    "import numpy as np\n",
    "from matplotlib import pyplot as plt"
   ]
  },
  {
   "cell_type": "code",
   "execution_count": 2,
   "id": "55f51bab-cf52-4481-893c-1dc23cd11723",
   "metadata": {
    "tags": []
   },
   "outputs": [],
   "source": [
    "df = pd.read_csv('merged_citibike_weather_sample_cleaned.csv', low_memory=False)"
   ]
  },
  {
   "cell_type": "code",
   "execution_count": 3,
   "id": "bed80859-6ee8-4218-8c31-e60f467b14c0",
   "metadata": {
    "tags": []
   },
   "outputs": [],
   "source": [
    "# Add a 'value' column to represent each trip\n",
    "df['value'] = 1"
   ]
  },
  {
   "cell_type": "code",
   "execution_count": 15,
   "id": "8d733eae-2112-4e1e-bceb-88c5d79a7944",
   "metadata": {
    "tags": []
   },
   "outputs": [],
   "source": [
    "# Group by starting and ending stations and count the number of trips\n",
    "df_grouped = df.groupby(['start_station_name', 'end_station_name', 'start_lat', 'start_lng', 'end_lat', 'end_lng'])['value'].count().reset_index()"
   ]
  },
  {
   "cell_type": "code",
   "execution_count": 16,
   "id": "aeaca44a-226a-4184-b999-59cf13c9f5b7",
   "metadata": {
    "tags": []
   },
   "outputs": [],
   "source": [
    "# Rename the columns for clarity\n",
    "df_grouped.rename(columns={'start_station_name': 'Starting Station', \n",
    "                           'end_station_name': 'Ending Station', \n",
    "                           'value': 'Trip Count'}, inplace=True)"
   ]
  },
  {
   "cell_type": "code",
   "execution_count": 17,
   "id": "1b205a50-7a91-4138-ac26-be68909cff01",
   "metadata": {
    "tags": []
   },
   "outputs": [
    {
     "name": "stdout",
     "output_type": "stream",
     "text": [
      "   Starting Station    Ending Station  start_lat  start_lng    end_lat  \\\n",
      "0  1 Ave & E 110 St  1 Ave & E 110 St  40.792327   -73.9383  40.792327   \n",
      "1  1 Ave & E 110 St  12 Ave & W 40 St  40.792327   -73.9383  40.760875   \n",
      "2  1 Ave & E 110 St  2 Ave & E 122 St  40.792327   -73.9383  40.800672   \n",
      "3  1 Ave & E 110 St   2 Ave & E 96 St  40.792327   -73.9383  40.783964   \n",
      "4  1 Ave & E 110 St  3 Ave & E 100 St  40.792327   -73.9383  40.787721   \n",
      "\n",
      "     end_lng  Trip Count  \n",
      "0 -73.938300           1  \n",
      "1 -74.002777           7  \n",
      "2 -73.934900           5  \n",
      "3 -73.947167          48  \n",
      "4 -73.947283           2  \n"
     ]
    }
   ],
   "source": [
    "print(df_grouped.head())"
   ]
  },
  {
   "cell_type": "code",
   "execution_count": 18,
   "id": "1e3aa23d-ac60-41c7-bf17-24a927284e42",
   "metadata": {
    "tags": []
   },
   "outputs": [
    {
     "name": "stdout",
     "output_type": "stream",
     "text": [
      "User Guide: https://docs.kepler.gl/docs/keplergl-jupyter\n"
     ]
    }
   ],
   "source": [
    "m = KeplerGl(height=700)"
   ]
  },
  {
   "cell_type": "code",
   "execution_count": 19,
   "id": "942da450-c3dc-4e25-a16f-daa435153584",
   "metadata": {
    "scrolled": true,
    "tags": []
   },
   "outputs": [],
   "source": [
    "m.add_data(data=df_grouped, name=\"Bike trips aggregated\")"
   ]
  },
  {
   "cell_type": "markdown",
   "id": "356b14c3",
   "metadata": {},
   "source": []
  },
  {
   "cell_type": "code",
   "execution_count": 20,
   "id": "b9621f9b",
   "metadata": {},
   "outputs": [
    {
     "data": {
      "application/vnd.jupyter.widget-view+json": {
       "model_id": "5fd1b89723a647f99dad6c33c191a37b",
       "version_major": 2,
       "version_minor": 0
      },
      "text/plain": [
       "KeplerGl(data={'Bike trips aggregated': {'index': [0, 1, 2, 3, 4, 5, 6, 7, 8, 9, 10, 11, 12, 13, 14, 15, 16, 1…"
      ]
     },
     "metadata": {},
     "output_type": "display_data"
    }
   ],
   "source": [
    "m"
   ]
  },
  {
   "cell_type": "markdown",
   "id": "8f82db06",
   "metadata": {},
   "source": [
    "### Map Customization\n",
    "\n",
    "1. **Color Customization for Points**:\n",
    "    - I set the **start station points** to be represented in **blue** and the **end station points** in **yellow**. This choice was made to visually differentiate between the start and end of bike trips, making it easier for the viewer to distinguish the two station types.\n",
    "    \n",
    "2. **Arc Layer for Bike Trips**:\n",
    "    - I added an **Arc Layer** to connect the start and end stations. This layer visually represents the trips taken between stations.\n",
    "    - I used a **purple-orange color gradient** for the arcs, where brighter colors represent more frequent trips between two stations. The thickness of the arcs was also adjusted to emphasize heavily trafficked routes.\n",
    "    - This setup allows for an intuitive understanding of which stations are most connected by bike trips and which routes are the most popular.\n",
    "\n"
   ]
  },
  {
   "cell_type": "markdown",
   "id": "6cebd9b9",
   "metadata": {},
   "source": [
    "### Filter Customization\n",
    "\n",
    "**Filter Setup**:\n",
    "    - I added a filter based on the **Trip Count** column to highlight only the most common trips (those with a trip count above 45).\n",
    "    - By moving the slider to the right, I was able to exclude less frequent trips and focus on the busiest routes in the city.\n"
   ]
  },
  {
   "cell_type": "markdown",
   "id": "8fe1bcf3",
   "metadata": {},
   "source": [
    "### Observations from the Map:\n",
    "\n",
    "1. **Midtown Manhattan**: As expected, the most frequent trips occur around **Midtown Manhattan**, especially near **Central Park**. This makes sense because it’s one of the busiest areas in the city, with a high concentration of both tourists and locals using bike-sharing services.\n",
    "\n",
    "2. **Busy Areas Around Universities**: You can also see some prominent routes around **Columbia University** and **New York University (NYU)**. These areas have a high density of students and staff, who may be using bikes for shorter commutes around campus or to nearby subway stations.\n",
    "\n",
    "\n",
    "### What Else Stands Out:\n",
    "\n",
    "- **Tourist Areas**: Some of the busiest routes seem to be near **Times Square** and **Lower Manhattan**, near landmarks like the **World Trade Center** and **Battery Park**, indicating heavy bike traffic in these areas.\n",
    "- **Lesser Activity in Uptown**: Uptown Manhattan, especially north of Central Park, has relatively fewer trips, which suggests that the bike-sharing program sees less use in those residential areas compared to the business-heavy Midtown and Lower Manhattan areas.\n",
    "\n",
    "### Why These Patterns Make Sense:\n",
    "\n",
    "**High Tourist Traffic**: Central Park, Times Square, and Lower Manhattan are some of the most visited spots in New York City, with tourists frequently opting to use bikes to travel between these locations.\n",
    "\n",
    "\n",
    "### Conclusion:\n",
    "\n",
    "The filter you applied helps highlight the areas of New York City with the most bike-sharing activity. These patterns suggest that bike-sharing is most popular in tourist hotspots and areas with high pedestrian traffic, like Midtown and the bridges connecting boroughs. A deeper analysis might reveal even more about the time of day or specific trip patterns, further enhancing the understanding of how bike trips are distributed across the city."
   ]
  },
  {
   "cell_type": "code",
   "execution_count": 21,
   "id": "0cdd34f0",
   "metadata": {},
   "outputs": [],
   "source": [
    "# Save the current configuration of the map\n",
    "config = m.config"
   ]
  },
  {
   "cell_type": "code",
   "execution_count": 22,
   "id": "96a80fc3",
   "metadata": {},
   "outputs": [
    {
     "name": "stdout",
     "output_type": "stream",
     "text": [
      "Map saved to NY_Bike_Trips_Customized.html!\n"
     ]
    }
   ],
   "source": [
    "# Save the map to an HTML file with the configuration settings\n",
    "m.save_to_html(file_name='NY_Bike_Trips_Customized.html', read_only=False, config=config)"
   ]
  },
  {
   "cell_type": "code",
   "execution_count": null,
   "id": "39514b56",
   "metadata": {},
   "outputs": [],
   "source": []
  }
 ],
 "metadata": {
  "kernelspec": {
   "display_name": "Python (env)",
   "language": "python",
   "name": "env"
  },
  "language_info": {
   "codemirror_mode": {
    "name": "ipython",
    "version": 3
   },
   "file_extension": ".py",
   "mimetype": "text/x-python",
   "name": "python",
   "nbconvert_exporter": "python",
   "pygments_lexer": "ipython3",
   "version": "3.11.7"
  }
 },
 "nbformat": 4,
 "nbformat_minor": 5
}
