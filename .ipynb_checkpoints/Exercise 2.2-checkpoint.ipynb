{
 "cells": [
  {
   "cell_type": "code",
   "execution_count": 1,
   "id": "43d9708c-5578-4112-9d01-9ae879146c52",
   "metadata": {
    "tags": []
   },
   "outputs": [],
   "source": [
    "import pandas as pd\n",
    "import numpy as np\n",
    "import os\n",
    "import requests\n",
    "import json\n",
    "from datetime import datetime"
   ]
  },
  {
   "cell_type": "code",
   "execution_count": 3,
   "id": "9c067cd5-47c8-4598-ba8e-dbfc672af6c2",
   "metadata": {
    "tags": []
   },
   "outputs": [],
   "source": [
    "# Create a list with all files in the folder using a list comprehension\n",
    "folderpath = r\"C:\\Users\\msyeu\\New-York-Citibike-Analysis-2022\\2022-citibike-tripdata\""
   ]
  },
  {
   "cell_type": "code",
   "execution_count": 5,
   "id": "357303a9-ad3e-4ea4-9001-cda2e501e533",
   "metadata": {
    "tags": []
   },
   "outputs": [],
   "source": [
    "filepaths = [os.path.join(folderpath, name) for name in os.listdir(folderpath)]"
   ]
  },
  {
   "cell_type": "code",
   "execution_count": 7,
   "id": "dc968959-4a20-4c62-a136-5bdfe20e9de5",
   "metadata": {
    "collapsed": true,
    "jupyter": {
     "outputs_hidden": true
    },
    "tags": []
   },
   "outputs": [
    {
     "name": "stdout",
     "output_type": "stream",
     "text": [
      "['C:\\\\Users\\\\msyeu\\\\New-York-Citibike-Analysis-2022\\\\2022-citibike-tripdata\\\\202201-citibike-tripdata.zip', 'C:\\\\Users\\\\msyeu\\\\New-York-Citibike-Analysis-2022\\\\2022-citibike-tripdata\\\\202201-citibike-tripdata_1.csv', 'C:\\\\Users\\\\msyeu\\\\New-York-Citibike-Analysis-2022\\\\2022-citibike-tripdata\\\\202201-citibike-tripdata_2.csv', 'C:\\\\Users\\\\msyeu\\\\New-York-Citibike-Analysis-2022\\\\2022-citibike-tripdata\\\\202202-citibike-tripdata.zip', 'C:\\\\Users\\\\msyeu\\\\New-York-Citibike-Analysis-2022\\\\2022-citibike-tripdata\\\\202202-citibike-tripdata_1.csv', 'C:\\\\Users\\\\msyeu\\\\New-York-Citibike-Analysis-2022\\\\2022-citibike-tripdata\\\\202202-citibike-tripdata_2.csv', 'C:\\\\Users\\\\msyeu\\\\New-York-Citibike-Analysis-2022\\\\2022-citibike-tripdata\\\\202203-citibike-tripdata.zip', 'C:\\\\Users\\\\msyeu\\\\New-York-Citibike-Analysis-2022\\\\2022-citibike-tripdata\\\\202203-citibike-tripdata_1.csv', 'C:\\\\Users\\\\msyeu\\\\New-York-Citibike-Analysis-2022\\\\2022-citibike-tripdata\\\\202203-citibike-tripdata_2.csv', 'C:\\\\Users\\\\msyeu\\\\New-York-Citibike-Analysis-2022\\\\2022-citibike-tripdata\\\\202204-citibike-tripdata.zip', 'C:\\\\Users\\\\msyeu\\\\New-York-Citibike-Analysis-2022\\\\2022-citibike-tripdata\\\\202204-citibike-tripdata_1.csv', 'C:\\\\Users\\\\msyeu\\\\New-York-Citibike-Analysis-2022\\\\2022-citibike-tripdata\\\\202204-citibike-tripdata_2.csv', 'C:\\\\Users\\\\msyeu\\\\New-York-Citibike-Analysis-2022\\\\2022-citibike-tripdata\\\\202204-citibike-tripdata_3.csv', 'C:\\\\Users\\\\msyeu\\\\New-York-Citibike-Analysis-2022\\\\2022-citibike-tripdata\\\\202205-citibike-tripdata.zip', 'C:\\\\Users\\\\msyeu\\\\New-York-Citibike-Analysis-2022\\\\2022-citibike-tripdata\\\\202205-citibike-tripdata_1.csv', 'C:\\\\Users\\\\msyeu\\\\New-York-Citibike-Analysis-2022\\\\2022-citibike-tripdata\\\\202205-citibike-tripdata_2.csv', 'C:\\\\Users\\\\msyeu\\\\New-York-Citibike-Analysis-2022\\\\2022-citibike-tripdata\\\\202205-citibike-tripdata_3.csv', 'C:\\\\Users\\\\msyeu\\\\New-York-Citibike-Analysis-2022\\\\2022-citibike-tripdata\\\\202206-citibike-tripdata.zip', 'C:\\\\Users\\\\msyeu\\\\New-York-Citibike-Analysis-2022\\\\2022-citibike-tripdata\\\\202206-citibike-tripdata_1.csv', 'C:\\\\Users\\\\msyeu\\\\New-York-Citibike-Analysis-2022\\\\2022-citibike-tripdata\\\\202206-citibike-tripdata_2.csv', 'C:\\\\Users\\\\msyeu\\\\New-York-Citibike-Analysis-2022\\\\2022-citibike-tripdata\\\\202206-citibike-tripdata_3.csv', 'C:\\\\Users\\\\msyeu\\\\New-York-Citibike-Analysis-2022\\\\2022-citibike-tripdata\\\\202206-citibike-tripdata_4.csv', 'C:\\\\Users\\\\msyeu\\\\New-York-Citibike-Analysis-2022\\\\2022-citibike-tripdata\\\\202207-citibike-tripdata.zip', 'C:\\\\Users\\\\msyeu\\\\New-York-Citibike-Analysis-2022\\\\2022-citibike-tripdata\\\\202207-citibike-tripdata_1.csv', 'C:\\\\Users\\\\msyeu\\\\New-York-Citibike-Analysis-2022\\\\2022-citibike-tripdata\\\\202207-citibike-tripdata_2.csv', 'C:\\\\Users\\\\msyeu\\\\New-York-Citibike-Analysis-2022\\\\2022-citibike-tripdata\\\\202207-citibike-tripdata_3.csv', 'C:\\\\Users\\\\msyeu\\\\New-York-Citibike-Analysis-2022\\\\2022-citibike-tripdata\\\\202207-citibike-tripdata_4.csv', 'C:\\\\Users\\\\msyeu\\\\New-York-Citibike-Analysis-2022\\\\2022-citibike-tripdata\\\\202208-citibike-tripdata.zip', 'C:\\\\Users\\\\msyeu\\\\New-York-Citibike-Analysis-2022\\\\2022-citibike-tripdata\\\\202208-citibike-tripdata_1.csv', 'C:\\\\Users\\\\msyeu\\\\New-York-Citibike-Analysis-2022\\\\2022-citibike-tripdata\\\\202208-citibike-tripdata_2.csv', 'C:\\\\Users\\\\msyeu\\\\New-York-Citibike-Analysis-2022\\\\2022-citibike-tripdata\\\\202208-citibike-tripdata_3.csv', 'C:\\\\Users\\\\msyeu\\\\New-York-Citibike-Analysis-2022\\\\2022-citibike-tripdata\\\\202208-citibike-tripdata_4.csv', 'C:\\\\Users\\\\msyeu\\\\New-York-Citibike-Analysis-2022\\\\2022-citibike-tripdata\\\\202209-citibike-tripdata.zip', 'C:\\\\Users\\\\msyeu\\\\New-York-Citibike-Analysis-2022\\\\2022-citibike-tripdata\\\\202209-citibike-tripdata_1.csv', 'C:\\\\Users\\\\msyeu\\\\New-York-Citibike-Analysis-2022\\\\2022-citibike-tripdata\\\\202209-citibike-tripdata_2.csv', 'C:\\\\Users\\\\msyeu\\\\New-York-Citibike-Analysis-2022\\\\2022-citibike-tripdata\\\\202209-citibike-tripdata_3.csv', 'C:\\\\Users\\\\msyeu\\\\New-York-Citibike-Analysis-2022\\\\2022-citibike-tripdata\\\\202209-citibike-tripdata_4.csv', 'C:\\\\Users\\\\msyeu\\\\New-York-Citibike-Analysis-2022\\\\2022-citibike-tripdata\\\\202210-citibike-tripdata.zip', 'C:\\\\Users\\\\msyeu\\\\New-York-Citibike-Analysis-2022\\\\2022-citibike-tripdata\\\\202210-citibike-tripdata_1.csv', 'C:\\\\Users\\\\msyeu\\\\New-York-Citibike-Analysis-2022\\\\2022-citibike-tripdata\\\\202210-citibike-tripdata_2.csv', 'C:\\\\Users\\\\msyeu\\\\New-York-Citibike-Analysis-2022\\\\2022-citibike-tripdata\\\\202210-citibike-tripdata_3.csv', 'C:\\\\Users\\\\msyeu\\\\New-York-Citibike-Analysis-2022\\\\2022-citibike-tripdata\\\\202211-citibike-tripdata.zip', 'C:\\\\Users\\\\msyeu\\\\New-York-Citibike-Analysis-2022\\\\2022-citibike-tripdata\\\\202211-citibike-tripdata_1.csv', 'C:\\\\Users\\\\msyeu\\\\New-York-Citibike-Analysis-2022\\\\2022-citibike-tripdata\\\\202211-citibike-tripdata_2.csv', 'C:\\\\Users\\\\msyeu\\\\New-York-Citibike-Analysis-2022\\\\2022-citibike-tripdata\\\\202211-citibike-tripdata_3.csv', 'C:\\\\Users\\\\msyeu\\\\New-York-Citibike-Analysis-2022\\\\2022-citibike-tripdata\\\\202212-citibike-tripdata.zip', 'C:\\\\Users\\\\msyeu\\\\New-York-Citibike-Analysis-2022\\\\2022-citibike-tripdata\\\\202212-citibike-tripdata_1.csv', 'C:\\\\Users\\\\msyeu\\\\New-York-Citibike-Analysis-2022\\\\2022-citibike-tripdata\\\\202212-citibike-tripdata_2.csv']\n"
     ]
    }
   ],
   "source": [
    "print(filepaths)"
   ]
  },
  {
   "cell_type": "markdown",
   "id": "9c0d899f-f8b2-4c08-8a94-484980a6759c",
   "metadata": {},
   "source": [
    "- **`folderpath = r\"Data\"`**: The `r` in front of the string makes it a raw string, ensuring that backslashes are treated literally, not as escape sequences.\n",
    "\n",
    "- **`filepaths = [os.path.join(folderpath, name) for name in os.listdir(folderpath)]`**: This line creates a list of file paths by:\n",
    "    1. Using `os.listdir(folderpath)` to list all files in the `Data` folder.\n",
    "    2. Joining the folder path with each file name using `os.path.join()`."
   ]
  },
  {
   "cell_type": "code",
   "execution_count": 13,
   "id": "d08f740a-d538-4c58-862d-f6d70b1b386d",
   "metadata": {
    "tags": []
   },
   "outputs": [],
   "source": [
    "import zipfile"
   ]
  },
  {
   "cell_type": "code",
   "execution_count": 15,
   "id": "6b4d713b-34d6-4205-9176-d5ffe2a406bc",
   "metadata": {
    "tags": []
   },
   "outputs": [],
   "source": [
    "for file in os.listdir(folderpath):\n",
    "    if file.endswith('.zip'):\n",
    "        with zipfile.ZipFile(os.path.join(folderpath, file), 'r') as zip_ref:\n",
    "            zip_ref.extractall(folderpath)"
   ]
  },
  {
   "cell_type": "code",
   "execution_count": 19,
   "id": "cd53630e-47f5-425c-a89b-411126126ebf",
   "metadata": {
    "tags": []
   },
   "outputs": [],
   "source": [
    "# After extracting, read all CSV files\n",
    "filepaths = [os.path.join(folderpath, name) for name in os.listdir(folderpath) if name.endswith('.csv')]"
   ]
  },
  {
   "cell_type": "code",
   "execution_count": 22,
   "id": "4248da25-ecb5-433e-9cb3-21c72b229ecc",
   "metadata": {
    "tags": []
   },
   "outputs": [],
   "source": [
    "df_citibike = pd.concat([pd.read_csv(f, dtype={'column_5_name': 'str', 'column_7_name': 'str'}, low_memory=False) for f in filepaths], ignore_index=True)"
   ]
  },
  {
   "cell_type": "code",
   "execution_count": 24,
   "id": "ae5fe6a5-00cb-4b84-ad9c-c0cc75ef47c8",
   "metadata": {
    "tags": []
   },
   "outputs": [
    {
     "data": {
      "text/html": [
       "<div>\n",
       "<style scoped>\n",
       "    .dataframe tbody tr th:only-of-type {\n",
       "        vertical-align: middle;\n",
       "    }\n",
       "\n",
       "    .dataframe tbody tr th {\n",
       "        vertical-align: top;\n",
       "    }\n",
       "\n",
       "    .dataframe thead th {\n",
       "        text-align: right;\n",
       "    }\n",
       "</style>\n",
       "<table border=\"1\" class=\"dataframe\">\n",
       "  <thead>\n",
       "    <tr style=\"text-align: right;\">\n",
       "      <th></th>\n",
       "      <th>ride_id</th>\n",
       "      <th>rideable_type</th>\n",
       "      <th>started_at</th>\n",
       "      <th>ended_at</th>\n",
       "      <th>start_station_name</th>\n",
       "      <th>start_station_id</th>\n",
       "      <th>end_station_name</th>\n",
       "      <th>end_station_id</th>\n",
       "      <th>start_lat</th>\n",
       "      <th>start_lng</th>\n",
       "      <th>end_lat</th>\n",
       "      <th>end_lng</th>\n",
       "      <th>member_casual</th>\n",
       "    </tr>\n",
       "  </thead>\n",
       "  <tbody>\n",
       "    <tr>\n",
       "      <th>0</th>\n",
       "      <td>BFD29218AB271154</td>\n",
       "      <td>electric_bike</td>\n",
       "      <td>2022-01-21 13:13:43.392</td>\n",
       "      <td>2022-01-21 13:22:31.463</td>\n",
       "      <td>West End Ave &amp; W 107 St</td>\n",
       "      <td>7650.05</td>\n",
       "      <td>Mt Morris Park W &amp; W 120 St</td>\n",
       "      <td>7685.14</td>\n",
       "      <td>40.802117</td>\n",
       "      <td>-73.968181</td>\n",
       "      <td>40.804038</td>\n",
       "      <td>-73.945925</td>\n",
       "      <td>member</td>\n",
       "    </tr>\n",
       "    <tr>\n",
       "      <th>1</th>\n",
       "      <td>7C953F2FD7BE1302</td>\n",
       "      <td>classic_bike</td>\n",
       "      <td>2022-01-10 11:30:54.162</td>\n",
       "      <td>2022-01-10 11:41:43.422</td>\n",
       "      <td>4 Ave &amp; 3 St</td>\n",
       "      <td>4028.04</td>\n",
       "      <td>Boerum Pl\\t&amp; Pacific St</td>\n",
       "      <td>4488.09</td>\n",
       "      <td>40.673746</td>\n",
       "      <td>-73.985649</td>\n",
       "      <td>40.688489</td>\n",
       "      <td>-73.991160</td>\n",
       "      <td>member</td>\n",
       "    </tr>\n",
       "    <tr>\n",
       "      <th>2</th>\n",
       "      <td>95893ABD40CED4B8</td>\n",
       "      <td>electric_bike</td>\n",
       "      <td>2022-01-26 10:52:43.096</td>\n",
       "      <td>2022-01-26 11:06:35.227</td>\n",
       "      <td>1 Ave &amp; E 62 St</td>\n",
       "      <td>6753.08</td>\n",
       "      <td>5 Ave &amp; E 29 St</td>\n",
       "      <td>6248.06</td>\n",
       "      <td>40.761227</td>\n",
       "      <td>-73.960940</td>\n",
       "      <td>40.745168</td>\n",
       "      <td>-73.986831</td>\n",
       "      <td>member</td>\n",
       "    </tr>\n",
       "    <tr>\n",
       "      <th>3</th>\n",
       "      <td>F853B50772137378</td>\n",
       "      <td>classic_bike</td>\n",
       "      <td>2022-01-03 08:35:48.247</td>\n",
       "      <td>2022-01-03 09:10:50.475</td>\n",
       "      <td>2 Ave &amp; E 96 St</td>\n",
       "      <td>7338.02</td>\n",
       "      <td>5 Ave &amp; E 29 St</td>\n",
       "      <td>6248.06</td>\n",
       "      <td>40.783964</td>\n",
       "      <td>-73.947167</td>\n",
       "      <td>40.745168</td>\n",
       "      <td>-73.986831</td>\n",
       "      <td>member</td>\n",
       "    </tr>\n",
       "    <tr>\n",
       "      <th>4</th>\n",
       "      <td>7590ADF834797B4B</td>\n",
       "      <td>classic_bike</td>\n",
       "      <td>2022-01-22 14:14:23.043</td>\n",
       "      <td>2022-01-22 14:34:57.474</td>\n",
       "      <td>6 Ave &amp; W 34 St</td>\n",
       "      <td>6364.10</td>\n",
       "      <td>5 Ave &amp; E 29 St</td>\n",
       "      <td>6248.06</td>\n",
       "      <td>40.749640</td>\n",
       "      <td>-73.988050</td>\n",
       "      <td>40.745168</td>\n",
       "      <td>-73.986831</td>\n",
       "      <td>member</td>\n",
       "    </tr>\n",
       "  </tbody>\n",
       "</table>\n",
       "</div>"
      ],
      "text/plain": [
       "            ride_id  rideable_type               started_at  \\\n",
       "0  BFD29218AB271154  electric_bike  2022-01-21 13:13:43.392   \n",
       "1  7C953F2FD7BE1302   classic_bike  2022-01-10 11:30:54.162   \n",
       "2  95893ABD40CED4B8  electric_bike  2022-01-26 10:52:43.096   \n",
       "3  F853B50772137378   classic_bike  2022-01-03 08:35:48.247   \n",
       "4  7590ADF834797B4B   classic_bike  2022-01-22 14:14:23.043   \n",
       "\n",
       "                  ended_at       start_station_name start_station_id  \\\n",
       "0  2022-01-21 13:22:31.463  West End Ave & W 107 St          7650.05   \n",
       "1  2022-01-10 11:41:43.422             4 Ave & 3 St          4028.04   \n",
       "2  2022-01-26 11:06:35.227          1 Ave & E 62 St          6753.08   \n",
       "3  2022-01-03 09:10:50.475          2 Ave & E 96 St          7338.02   \n",
       "4  2022-01-22 14:34:57.474          6 Ave & W 34 St          6364.10   \n",
       "\n",
       "              end_station_name end_station_id  start_lat  start_lng  \\\n",
       "0  Mt Morris Park W & W 120 St        7685.14  40.802117 -73.968181   \n",
       "1      Boerum Pl\\t& Pacific St        4488.09  40.673746 -73.985649   \n",
       "2              5 Ave & E 29 St        6248.06  40.761227 -73.960940   \n",
       "3              5 Ave & E 29 St        6248.06  40.783964 -73.947167   \n",
       "4              5 Ave & E 29 St        6248.06  40.749640 -73.988050   \n",
       "\n",
       "     end_lat    end_lng member_casual  \n",
       "0  40.804038 -73.945925        member  \n",
       "1  40.688489 -73.991160        member  \n",
       "2  40.745168 -73.986831        member  \n",
       "3  40.745168 -73.986831        member  \n",
       "4  40.745168 -73.986831        member  "
      ]
     },
     "execution_count": 24,
     "metadata": {},
     "output_type": "execute_result"
    }
   ],
   "source": [
    "df_citibike.head()"
   ]
  },
  {
   "cell_type": "code",
   "execution_count": 30,
   "id": "6c3b4864-880f-43b9-86cc-ea4d19342c89",
   "metadata": {
    "tags": []
   },
   "outputs": [],
   "source": [
    "# NOAA API endpoint and parameters\n",
    "base_url = \"https://www.ncdc.noaa.gov/cdo-web/api/v2/data?\""
   ]
  },
  {
   "cell_type": "code",
   "execution_count": 32,
   "id": "1ff0b2ff-4243-45f7-9222-27f19cacc68b",
   "metadata": {
    "tags": []
   },
   "outputs": [],
   "source": [
    "token = \"SKNSEHFPikiFDPQpswIviTpRmYARzDzx\""
   ]
  },
  {
   "cell_type": "code",
   "execution_count": 34,
   "id": "8095a981-7ad9-47ee-b3e2-f69665ea614a",
   "metadata": {
    "tags": []
   },
   "outputs": [],
   "source": [
    "# Define parameters for LaGuardia Airport in 2022\n",
    "params = {\n",
    "    'datasetid': 'GHCND',\n",
    "    'stationid': 'GHCND:USW00014732',  # LaGuardia station ID\n",
    "    'startdate': '2022-01-01',\n",
    "    'enddate': '2022-12-31',\n",
    "    'datatypeid': 'TAVG',  # Average temperature\n",
    "    'limit': 1000\n",
    "}"
   ]
  },
  {
   "cell_type": "code",
   "execution_count": 36,
   "id": "e2788ee3-1616-4cbc-98b6-69f3bed2ba65",
   "metadata": {
    "tags": []
   },
   "outputs": [],
   "source": [
    "headers = {'token': token}"
   ]
  },
  {
   "cell_type": "code",
   "execution_count": 38,
   "id": "5b5cfa94-9b9f-496c-b308-187a5e882eb8",
   "metadata": {
    "tags": []
   },
   "outputs": [],
   "source": [
    "response = requests.get(base_url, headers=headers, params=params)"
   ]
  },
  {
   "cell_type": "code",
   "execution_count": 39,
   "id": "26f131a6-ba11-4777-9d85-a0bca781f52e",
   "metadata": {
    "tags": []
   },
   "outputs": [],
   "source": [
    "data = response.json()['results']"
   ]
  },
  {
   "cell_type": "code",
   "execution_count": 46,
   "id": "71ca593b-9fcc-4e93-86d8-0a48b35c289b",
   "metadata": {
    "tags": []
   },
   "outputs": [],
   "source": [
    "# Create lists for dates and temperatures\n",
    "dates = [datetime.strptime(item['date'], \"%Y-%m-%dT%H:%M:%S\") for item in data]\n",
    "temps = [item['value'] / 10 for item in data]  # Convert temp from tenths of Celsius to Celsius"
   ]
  },
  {
   "cell_type": "code",
   "execution_count": 60,
   "id": "540cc69a-1328-4c89-a712-4ddddfede338",
   "metadata": {
    "tags": []
   },
   "outputs": [],
   "source": [
    "# Create a DataFrame\n",
    "df_temps = pd.DataFrame({'Date': dates, 'AvgTemp(C)': temps})"
   ]
  },
  {
   "cell_type": "code",
   "execution_count": 62,
   "id": "06a05d6d-e8b2-4edd-b6e0-5d1ef642b27f",
   "metadata": {
    "tags": []
   },
   "outputs": [],
   "source": [
    "df_temps.to_csv('laguardia_weather_2022.csv', index=False)"
   ]
  },
  {
   "cell_type": "code",
   "execution_count": 68,
   "id": "f7499a9e-efa1-48c0-857a-19d8ee97fd6b",
   "metadata": {
    "tags": []
   },
   "outputs": [
    {
     "data": {
      "text/html": [
       "<div>\n",
       "<style scoped>\n",
       "    .dataframe tbody tr th:only-of-type {\n",
       "        vertical-align: middle;\n",
       "    }\n",
       "\n",
       "    .dataframe tbody tr th {\n",
       "        vertical-align: top;\n",
       "    }\n",
       "\n",
       "    .dataframe thead th {\n",
       "        text-align: right;\n",
       "    }\n",
       "</style>\n",
       "<table border=\"1\" class=\"dataframe\">\n",
       "  <thead>\n",
       "    <tr style=\"text-align: right;\">\n",
       "      <th></th>\n",
       "      <th>Date</th>\n",
       "      <th>AvgTemp(C)</th>\n",
       "    </tr>\n",
       "  </thead>\n",
       "  <tbody>\n",
       "    <tr>\n",
       "      <th>360</th>\n",
       "      <td>2022-12-27</td>\n",
       "      <td>-0.7</td>\n",
       "    </tr>\n",
       "    <tr>\n",
       "      <th>361</th>\n",
       "      <td>2022-12-28</td>\n",
       "      <td>3.4</td>\n",
       "    </tr>\n",
       "    <tr>\n",
       "      <th>362</th>\n",
       "      <td>2022-12-29</td>\n",
       "      <td>6.4</td>\n",
       "    </tr>\n",
       "    <tr>\n",
       "      <th>363</th>\n",
       "      <td>2022-12-30</td>\n",
       "      <td>9.3</td>\n",
       "    </tr>\n",
       "    <tr>\n",
       "      <th>364</th>\n",
       "      <td>2022-12-31</td>\n",
       "      <td>8.2</td>\n",
       "    </tr>\n",
       "  </tbody>\n",
       "</table>\n",
       "</div>"
      ],
      "text/plain": [
       "          Date  AvgTemp(C)\n",
       "360 2022-12-27        -0.7\n",
       "361 2022-12-28         3.4\n",
       "362 2022-12-29         6.4\n",
       "363 2022-12-30         9.3\n",
       "364 2022-12-31         8.2"
      ]
     },
     "execution_count": 68,
     "metadata": {},
     "output_type": "execute_result"
    }
   ],
   "source": [
    "df_temps.tail()"
   ]
  },
  {
   "cell_type": "code",
   "execution_count": 46,
   "id": "f8eb2809-35d0-48b3-9e21-57a35af90bb9",
   "metadata": {
    "tags": []
   },
   "outputs": [],
   "source": [
    "df_temps = pd.read_csv('laguardia_weather_2022.csv')"
   ]
  },
  {
   "cell_type": "code",
   "execution_count": 48,
   "id": "cca8ffa5-c89e-4067-8ead-9eb9e0ac818e",
   "metadata": {
    "tags": []
   },
   "outputs": [],
   "source": [
    "df_temps['Date'] = pd.to_datetime(df_temps['Date']).dt.date"
   ]
  },
  {
   "cell_type": "code",
   "execution_count": 50,
   "id": "44ed807d-48cd-44d2-a322-0ba8c44c6504",
   "metadata": {
    "tags": []
   },
   "outputs": [],
   "source": [
    "df_citibike['date'] = pd.to_datetime(df_citibike['started_at']).dt.date"
   ]
  },
  {
   "cell_type": "code",
   "execution_count": 58,
   "id": "8aeebdb1-9288-4dd9-ad72-b04fd3565641",
   "metadata": {
    "tags": []
   },
   "outputs": [],
   "source": [
    "df_merged = df_citibike.merge(df_temps, left_on='date', right_on='Date', how='left', indicator=True)"
   ]
  },
  {
   "cell_type": "code",
   "execution_count": null,
   "id": "32142263-2d70-4a3d-89f1-2fe041d27983",
   "metadata": {
    "tags": []
   },
   "outputs": [],
   "source": [
    "df_merged.to_csv('citibike_weather_merged.csv', index=False)"
   ]
  },
  {
   "cell_type": "code",
   "execution_count": 60,
   "id": "689929d0-f6b4-4954-9acb-86dd0af58103",
   "metadata": {
    "tags": []
   },
   "outputs": [
    {
     "data": {
      "text/plain": [
       "_merge\n",
       "both          29838166\n",
       "left_only          640\n",
       "right_only           0\n",
       "Name: count, dtype: int64"
      ]
     },
     "execution_count": 60,
     "metadata": {},
     "output_type": "execute_result"
    }
   ],
   "source": [
    "df_merged['_merge'].value_counts(dropna=False)"
   ]
  },
  {
   "cell_type": "code",
   "execution_count": null,
   "id": "8cf696ea-cfc5-470b-9002-e900feb05ba9",
   "metadata": {},
   "outputs": [],
   "source": []
  }
 ],
 "metadata": {
  "kernelspec": {
   "display_name": "Python 3 (ipykernel)",
   "language": "python",
   "name": "python3"
  },
  "language_info": {
   "codemirror_mode": {
    "name": "ipython",
    "version": 3
   },
   "file_extension": ".py",
   "mimetype": "text/x-python",
   "name": "python",
   "nbconvert_exporter": "python",
   "pygments_lexer": "ipython3",
   "version": "3.11.7"
  }
 },
 "nbformat": 4,
 "nbformat_minor": 5
}
