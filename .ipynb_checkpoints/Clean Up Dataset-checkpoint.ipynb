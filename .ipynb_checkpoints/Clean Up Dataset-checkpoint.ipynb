{
 "cells": [
  {
   "cell_type": "code",
   "execution_count": 11,
   "id": "af368b9b-89cf-4a3b-bb22-023203f34aab",
   "metadata": {
    "tags": []
   },
   "outputs": [],
   "source": [
    "import pandas as pd\n",
    "import numpy as np"
   ]
  },
  {
   "cell_type": "code",
   "execution_count": 13,
   "id": "46d8d098-7924-417f-8727-4641efc8e32c",
   "metadata": {
    "tags": []
   },
   "outputs": [],
   "source": [
    "dtype_spec = {\n",
    "    'column_5_name': 'str',  # Replace 'column_5_name' with actual column name\n",
    "    'column_7_name': 'str'   # Replace 'column_7_name' with actual column name\n",
    "}"
   ]
  },
  {
   "cell_type": "code",
   "execution_count": 15,
   "id": "0885a29a-d144-4ade-b4a1-58d093e37d50",
   "metadata": {
    "tags": []
   },
   "outputs": [],
   "source": [
    "# Load the dataset in chunks with specified dtype for columns 5 and 7\n",
    "chunk_size = 100000  # Adjust based on memory\n",
    "chunks = []"
   ]
  },
  {
   "cell_type": "code",
   "execution_count": 17,
   "id": "d0fb5b5a-015c-4294-8135-6f963f080b71",
   "metadata": {
    "tags": []
   },
   "outputs": [],
   "source": [
    "for chunk in pd.read_csv('merged_citibike_weather.csv', chunksize=chunk_size, dtype=dtype_spec, low_memory=False):\n",
    "    chunks.append(chunk)"
   ]
  },
  {
   "cell_type": "code",
   "execution_count": 19,
   "id": "e96a76b6-925f-4d1f-be7e-38e16a3ac220",
   "metadata": {
    "tags": []
   },
   "outputs": [],
   "source": [
    "# Concatenate the chunks into a single dataframe\n",
    "df = pd.concat(chunks, ignore_index=True)"
   ]
  },
  {
   "cell_type": "code",
   "execution_count": 21,
   "id": "202ca644-3826-4c32-8125-e2e392c6a09d",
   "metadata": {
    "tags": []
   },
   "outputs": [],
   "source": [
    "# Take a 25% sample of the dataframe\n",
    "subset_df = df.sample(frac=0.25, random_state=42).reset_index(drop=True)"
   ]
  },
  {
   "cell_type": "code",
   "execution_count": 23,
   "id": "36d84921-dbc2-4c09-a39e-d6cc13fa2dab",
   "metadata": {
    "tags": []
   },
   "outputs": [
    {
     "data": {
      "text/html": [
       "<div>\n",
       "<style scoped>\n",
       "    .dataframe tbody tr th:only-of-type {\n",
       "        vertical-align: middle;\n",
       "    }\n",
       "\n",
       "    .dataframe tbody tr th {\n",
       "        vertical-align: top;\n",
       "    }\n",
       "\n",
       "    .dataframe thead th {\n",
       "        text-align: right;\n",
       "    }\n",
       "</style>\n",
       "<table border=\"1\" class=\"dataframe\">\n",
       "  <thead>\n",
       "    <tr style=\"text-align: right;\">\n",
       "      <th></th>\n",
       "      <th>start_station_name</th>\n",
       "      <th>end_station_name</th>\n",
       "    </tr>\n",
       "  </thead>\n",
       "  <tbody>\n",
       "    <tr>\n",
       "      <th>0</th>\n",
       "      <td>Central Park West &amp; W 85 St</td>\n",
       "      <td>Grand Army Plaza &amp; Central Park S</td>\n",
       "    </tr>\n",
       "    <tr>\n",
       "      <th>1</th>\n",
       "      <td>W 4 St &amp; 7 Ave S</td>\n",
       "      <td>W 16 St &amp; The High Line</td>\n",
       "    </tr>\n",
       "    <tr>\n",
       "      <th>2</th>\n",
       "      <td>Menahan St &amp; Onderdonk Ave</td>\n",
       "      <td>N 12 St &amp; Bedford Ave</td>\n",
       "    </tr>\n",
       "    <tr>\n",
       "      <th>3</th>\n",
       "      <td>Hope St &amp; Union Ave</td>\n",
       "      <td>38 St &amp; 30 Ave</td>\n",
       "    </tr>\n",
       "    <tr>\n",
       "      <th>4</th>\n",
       "      <td>6 Ave &amp; W 33 St</td>\n",
       "      <td>Broadway &amp; W 29 St</td>\n",
       "    </tr>\n",
       "  </tbody>\n",
       "</table>\n",
       "</div>"
      ],
      "text/plain": [
       "            start_station_name                   end_station_name\n",
       "0  Central Park West & W 85 St  Grand Army Plaza & Central Park S\n",
       "1             W 4 St & 7 Ave S            W 16 St & The High Line\n",
       "2   Menahan St & Onderdonk Ave              N 12 St & Bedford Ave\n",
       "3          Hope St & Union Ave                     38 St & 30 Ave\n",
       "4              6 Ave & W 33 St                 Broadway & W 29 St"
      ]
     },
     "execution_count": 23,
     "metadata": {},
     "output_type": "execute_result"
    }
   ],
   "source": [
    "subset_df.iloc[:, [4, 6]].head()"
   ]
  },
  {
   "cell_type": "code",
   "execution_count": 25,
   "id": "7327d011-5f7a-4101-8b4e-acf9554f770a",
   "metadata": {
    "tags": []
   },
   "outputs": [
    {
     "data": {
      "text/html": [
       "<div>\n",
       "<style scoped>\n",
       "    .dataframe tbody tr th:only-of-type {\n",
       "        vertical-align: middle;\n",
       "    }\n",
       "\n",
       "    .dataframe tbody tr th {\n",
       "        vertical-align: top;\n",
       "    }\n",
       "\n",
       "    .dataframe thead th {\n",
       "        text-align: right;\n",
       "    }\n",
       "</style>\n",
       "<table border=\"1\" class=\"dataframe\">\n",
       "  <thead>\n",
       "    <tr style=\"text-align: right;\">\n",
       "      <th></th>\n",
       "      <th>start_station_id</th>\n",
       "      <th>end_station_id</th>\n",
       "    </tr>\n",
       "  </thead>\n",
       "  <tbody>\n",
       "    <tr>\n",
       "      <th>0</th>\n",
       "      <td>7354.01</td>\n",
       "      <td>6839.10</td>\n",
       "    </tr>\n",
       "    <tr>\n",
       "      <th>1</th>\n",
       "      <td>5880.02</td>\n",
       "      <td>6233.05</td>\n",
       "    </tr>\n",
       "    <tr>\n",
       "      <th>2</th>\n",
       "      <td>5034.03</td>\n",
       "      <td>5450.04</td>\n",
       "    </tr>\n",
       "    <tr>\n",
       "      <th>3</th>\n",
       "      <td>5187.03</td>\n",
       "      <td>6850.01</td>\n",
       "    </tr>\n",
       "    <tr>\n",
       "      <th>4</th>\n",
       "      <td>6364.07</td>\n",
       "      <td>6289.06</td>\n",
       "    </tr>\n",
       "  </tbody>\n",
       "</table>\n",
       "</div>"
      ],
      "text/plain": [
       "  start_station_id end_station_id\n",
       "0          7354.01        6839.10\n",
       "1          5880.02        6233.05\n",
       "2          5034.03        5450.04\n",
       "3          5187.03        6850.01\n",
       "4          6364.07        6289.06"
      ]
     },
     "execution_count": 25,
     "metadata": {},
     "output_type": "execute_result"
    }
   ],
   "source": [
    "subset_df.iloc[:, [5, 7]].head()"
   ]
  },
  {
   "cell_type": "code",
   "execution_count": 27,
   "id": "5add6cac-eec2-4aeb-8706-e9256b768cbc",
   "metadata": {
    "tags": []
   },
   "outputs": [],
   "source": [
    "subset_df.iloc[:, 5] = pd.to_numeric(subset_df.iloc[:, 5], errors='coerce')"
   ]
  },
  {
   "cell_type": "code",
   "execution_count": 29,
   "id": "828c2c77-7721-4ec3-988d-5530bf3bba1f",
   "metadata": {
    "tags": []
   },
   "outputs": [],
   "source": [
    "subset_df.iloc[:, 7] = pd.to_numeric(subset_df.iloc[:, 7], errors='coerce')"
   ]
  },
  {
   "cell_type": "code",
   "execution_count": 31,
   "id": "2f33a2a1-b9d1-4656-90ae-51f1ac73d87e",
   "metadata": {
    "tags": []
   },
   "outputs": [
    {
     "data": {
      "text/plain": [
       "Index(['ride_id', 'rideable_type', 'started_at', 'ended_at',\n",
       "       'start_station_name', 'start_station_id', 'end_station_name',\n",
       "       'end_station_id', 'start_lat', 'start_lng', 'end_lat', 'end_lng',\n",
       "       'member_casual', 'date', 'Date', 'AvgTemp(C)', '_merge'],\n",
       "      dtype='object')"
      ]
     },
     "execution_count": 31,
     "metadata": {},
     "output_type": "execute_result"
    }
   ],
   "source": [
    "# Display the column names\n",
    "subset_df.columns"
   ]
  },
  {
   "cell_type": "code",
   "execution_count": 33,
   "id": "0d63e044-1083-42c9-b217-577c81bd1c77",
   "metadata": {
    "tags": []
   },
   "outputs": [
    {
     "data": {
      "text/html": [
       "<div>\n",
       "<style scoped>\n",
       "    .dataframe tbody tr th:only-of-type {\n",
       "        vertical-align: middle;\n",
       "    }\n",
       "\n",
       "    .dataframe tbody tr th {\n",
       "        vertical-align: top;\n",
       "    }\n",
       "\n",
       "    .dataframe thead th {\n",
       "        text-align: right;\n",
       "    }\n",
       "</style>\n",
       "<table border=\"1\" class=\"dataframe\">\n",
       "  <thead>\n",
       "    <tr style=\"text-align: right;\">\n",
       "      <th></th>\n",
       "      <th>start_station_name</th>\n",
       "      <th>end_station_name</th>\n",
       "    </tr>\n",
       "  </thead>\n",
       "  <tbody>\n",
       "    <tr>\n",
       "      <th>0</th>\n",
       "      <td>Central Park West &amp; W 85 St</td>\n",
       "      <td>Grand Army Plaza &amp; Central Park S</td>\n",
       "    </tr>\n",
       "    <tr>\n",
       "      <th>1</th>\n",
       "      <td>W 4 St &amp; 7 Ave S</td>\n",
       "      <td>W 16 St &amp; The High Line</td>\n",
       "    </tr>\n",
       "    <tr>\n",
       "      <th>2</th>\n",
       "      <td>Menahan St &amp; Onderdonk Ave</td>\n",
       "      <td>N 12 St &amp; Bedford Ave</td>\n",
       "    </tr>\n",
       "    <tr>\n",
       "      <th>3</th>\n",
       "      <td>Hope St &amp; Union Ave</td>\n",
       "      <td>38 St &amp; 30 Ave</td>\n",
       "    </tr>\n",
       "    <tr>\n",
       "      <th>4</th>\n",
       "      <td>6 Ave &amp; W 33 St</td>\n",
       "      <td>Broadway &amp; W 29 St</td>\n",
       "    </tr>\n",
       "  </tbody>\n",
       "</table>\n",
       "</div>"
      ],
      "text/plain": [
       "            start_station_name                   end_station_name\n",
       "0  Central Park West & W 85 St  Grand Army Plaza & Central Park S\n",
       "1             W 4 St & 7 Ave S            W 16 St & The High Line\n",
       "2   Menahan St & Onderdonk Ave              N 12 St & Bedford Ave\n",
       "3          Hope St & Union Ave                     38 St & 30 Ave\n",
       "4              6 Ave & W 33 St                 Broadway & W 29 St"
      ]
     },
     "execution_count": 33,
     "metadata": {},
     "output_type": "execute_result"
    }
   ],
   "source": [
    "# Inspect the first few rows of start_station_name and end_station_name\n",
    "subset_df[['start_station_name', 'end_station_name']].head()"
   ]
  },
  {
   "cell_type": "code",
   "execution_count": 35,
   "id": "b8445a50-90e4-4be7-b2aa-9a690a8f2eb2",
   "metadata": {
    "tags": []
   },
   "outputs": [
    {
     "data": {
      "text/plain": [
       "start_station_name    object\n",
       "end_station_name      object\n",
       "dtype: object"
      ]
     },
     "execution_count": 35,
     "metadata": {},
     "output_type": "execute_result"
    }
   ],
   "source": [
    "# Check the data types of start_station_name and end_station_name\n",
    "subset_df[['start_station_name', 'end_station_name']].dtypes"
   ]
  },
  {
   "cell_type": "code",
   "execution_count": 40,
   "id": "f81bc87b-ca1f-4124-9fa6-9a583d32d864",
   "metadata": {
    "tags": []
   },
   "outputs": [
    {
     "data": {
      "text/plain": [
       "start_station_id    object\n",
       "end_station_id      object\n",
       "dtype: object"
      ]
     },
     "execution_count": 40,
     "metadata": {},
     "output_type": "execute_result"
    }
   ],
   "source": [
    "# Check the data types of start_station_id and end_station_id\n",
    "subset_df[['start_station_id', 'end_station_id']].dtypes"
   ]
  },
  {
   "cell_type": "code",
   "execution_count": 42,
   "id": "80799d94-4ec6-44e6-9421-c737f1f45f0d",
   "metadata": {
    "tags": []
   },
   "outputs": [
    {
     "name": "stdout",
     "output_type": "stream",
     "text": [
      "Unique values in start_station_id: [7354.01 5880.02 5034.03 ... 3950.03 3925.03 4129.1]\n"
     ]
    }
   ],
   "source": [
    "print(\"Unique values in start_station_id:\", subset_df['start_station_id'].unique())"
   ]
  },
  {
   "cell_type": "code",
   "execution_count": 44,
   "id": "0ece1eff-ed45-4ac1-a5c3-cfb557c19027",
   "metadata": {
    "tags": []
   },
   "outputs": [
    {
     "data": {
      "text/html": [
       "<div>\n",
       "<style scoped>\n",
       "    .dataframe tbody tr th:only-of-type {\n",
       "        vertical-align: middle;\n",
       "    }\n",
       "\n",
       "    .dataframe tbody tr th {\n",
       "        vertical-align: top;\n",
       "    }\n",
       "\n",
       "    .dataframe thead th {\n",
       "        text-align: right;\n",
       "    }\n",
       "</style>\n",
       "<table border=\"1\" class=\"dataframe\">\n",
       "  <thead>\n",
       "    <tr style=\"text-align: right;\">\n",
       "      <th></th>\n",
       "      <th>start_station_id</th>\n",
       "      <th>end_station_id</th>\n",
       "    </tr>\n",
       "  </thead>\n",
       "  <tbody>\n",
       "    <tr>\n",
       "      <th>0</th>\n",
       "      <td>7354.01</td>\n",
       "      <td>6839.1</td>\n",
       "    </tr>\n",
       "    <tr>\n",
       "      <th>1</th>\n",
       "      <td>5880.02</td>\n",
       "      <td>6233.05</td>\n",
       "    </tr>\n",
       "    <tr>\n",
       "      <th>2</th>\n",
       "      <td>5034.03</td>\n",
       "      <td>5450.04</td>\n",
       "    </tr>\n",
       "    <tr>\n",
       "      <th>3</th>\n",
       "      <td>5187.03</td>\n",
       "      <td>6850.01</td>\n",
       "    </tr>\n",
       "    <tr>\n",
       "      <th>4</th>\n",
       "      <td>6364.07</td>\n",
       "      <td>6289.06</td>\n",
       "    </tr>\n",
       "    <tr>\n",
       "      <th>5</th>\n",
       "      <td>4455.1</td>\n",
       "      <td>4225.14</td>\n",
       "    </tr>\n",
       "    <tr>\n",
       "      <th>6</th>\n",
       "      <td>6115.09</td>\n",
       "      <td>6569.07</td>\n",
       "    </tr>\n",
       "    <tr>\n",
       "      <th>7</th>\n",
       "      <td>7463.09</td>\n",
       "      <td>7436.11</td>\n",
       "    </tr>\n",
       "    <tr>\n",
       "      <th>8</th>\n",
       "      <td>8111.04</td>\n",
       "      <td>7738.04</td>\n",
       "    </tr>\n",
       "    <tr>\n",
       "      <th>9</th>\n",
       "      <td>7311.02</td>\n",
       "      <td>5788.13</td>\n",
       "    </tr>\n",
       "    <tr>\n",
       "      <th>10</th>\n",
       "      <td>6560.15</td>\n",
       "      <td>6131.12</td>\n",
       "    </tr>\n",
       "    <tr>\n",
       "      <th>11</th>\n",
       "      <td>7812.01</td>\n",
       "      <td>7314.03</td>\n",
       "    </tr>\n",
       "    <tr>\n",
       "      <th>12</th>\n",
       "      <td>4546.04</td>\n",
       "      <td>4419.03</td>\n",
       "    </tr>\n",
       "    <tr>\n",
       "      <th>13</th>\n",
       "      <td>6319.07</td>\n",
       "      <td>6179.07</td>\n",
       "    </tr>\n",
       "    <tr>\n",
       "      <th>14</th>\n",
       "      <td>8616.06</td>\n",
       "      <td>8655.02</td>\n",
       "    </tr>\n",
       "    <tr>\n",
       "      <th>15</th>\n",
       "      <td>5755.09</td>\n",
       "      <td>5626.06</td>\n",
       "    </tr>\n",
       "    <tr>\n",
       "      <th>16</th>\n",
       "      <td>6822.09</td>\n",
       "      <td>6122.09</td>\n",
       "    </tr>\n",
       "    <tr>\n",
       "      <th>17</th>\n",
       "      <td>4993.15</td>\n",
       "      <td>5653.12</td>\n",
       "    </tr>\n",
       "    <tr>\n",
       "      <th>18</th>\n",
       "      <td>5379.1</td>\n",
       "      <td>4608.01</td>\n",
       "    </tr>\n",
       "    <tr>\n",
       "      <th>19</th>\n",
       "      <td>7837.3</td>\n",
       "      <td>7795.09</td>\n",
       "    </tr>\n",
       "  </tbody>\n",
       "</table>\n",
       "</div>"
      ],
      "text/plain": [
       "   start_station_id end_station_id\n",
       "0           7354.01         6839.1\n",
       "1           5880.02        6233.05\n",
       "2           5034.03        5450.04\n",
       "3           5187.03        6850.01\n",
       "4           6364.07        6289.06\n",
       "5            4455.1        4225.14\n",
       "6           6115.09        6569.07\n",
       "7           7463.09        7436.11\n",
       "8           8111.04        7738.04\n",
       "9           7311.02        5788.13\n",
       "10          6560.15        6131.12\n",
       "11          7812.01        7314.03\n",
       "12          4546.04        4419.03\n",
       "13          6319.07        6179.07\n",
       "14          8616.06        8655.02\n",
       "15          5755.09        5626.06\n",
       "16          6822.09        6122.09\n",
       "17          4993.15        5653.12\n",
       "18           5379.1        4608.01\n",
       "19           7837.3        7795.09"
      ]
     },
     "execution_count": 44,
     "metadata": {},
     "output_type": "execute_result"
    }
   ],
   "source": [
    "# Inspect a few more rows to understand the pattern\n",
    "subset_df[['start_station_id', 'end_station_id']].head(20)"
   ]
  },
  {
   "cell_type": "code",
   "execution_count": 50,
   "id": "72b77917-8615-4d17-a15d-224d7c394184",
   "metadata": {
    "tags": []
   },
   "outputs": [
    {
     "name": "stdout",
     "output_type": "stream",
     "text": [
      "NaN values in start_station_id: 134\n",
      "NaN values in end_station_id: 18247\n"
     ]
    }
   ],
   "source": [
    "print(\"NaN values in start_station_id:\", subset_df['start_station_id'].isnull().sum())\n",
    "print(\"NaN values in end_station_id:\", subset_df['end_station_id'].isnull().sum())"
   ]
  },
  {
   "cell_type": "code",
   "execution_count": 54,
   "id": "494d6beb-f9a0-4351-9a12-a974510a5b74",
   "metadata": {
    "tags": []
   },
   "outputs": [],
   "source": [
    "station_reference_df = subset_df[['start_station_name', 'start_station_id']].dropna().drop_duplicates()"
   ]
  },
  {
   "cell_type": "code",
   "execution_count": 56,
   "id": "5545889a-381d-4971-a756-6e40c5a80a7a",
   "metadata": {
    "tags": []
   },
   "outputs": [
    {
     "data": {
      "text/html": [
       "<div>\n",
       "<style scoped>\n",
       "    .dataframe tbody tr th:only-of-type {\n",
       "        vertical-align: middle;\n",
       "    }\n",
       "\n",
       "    .dataframe tbody tr th {\n",
       "        vertical-align: top;\n",
       "    }\n",
       "\n",
       "    .dataframe thead th {\n",
       "        text-align: right;\n",
       "    }\n",
       "</style>\n",
       "<table border=\"1\" class=\"dataframe\">\n",
       "  <thead>\n",
       "    <tr style=\"text-align: right;\">\n",
       "      <th></th>\n",
       "      <th>start_station_name</th>\n",
       "      <th>start_station_id</th>\n",
       "    </tr>\n",
       "  </thead>\n",
       "  <tbody>\n",
       "    <tr>\n",
       "      <th>0</th>\n",
       "      <td>Central Park West &amp; W 85 St</td>\n",
       "      <td>7354.01</td>\n",
       "    </tr>\n",
       "    <tr>\n",
       "      <th>1</th>\n",
       "      <td>W 4 St &amp; 7 Ave S</td>\n",
       "      <td>5880.02</td>\n",
       "    </tr>\n",
       "    <tr>\n",
       "      <th>2</th>\n",
       "      <td>Menahan St &amp; Onderdonk Ave</td>\n",
       "      <td>5034.03</td>\n",
       "    </tr>\n",
       "    <tr>\n",
       "      <th>3</th>\n",
       "      <td>Hope St &amp; Union Ave</td>\n",
       "      <td>5187.03</td>\n",
       "    </tr>\n",
       "    <tr>\n",
       "      <th>4</th>\n",
       "      <td>6 Ave &amp; W 33 St</td>\n",
       "      <td>6364.07</td>\n",
       "    </tr>\n",
       "  </tbody>\n",
       "</table>\n",
       "</div>"
      ],
      "text/plain": [
       "            start_station_name  start_station_id\n",
       "0  Central Park West & W 85 St           7354.01\n",
       "1             W 4 St & 7 Ave S           5880.02\n",
       "2   Menahan St & Onderdonk Ave           5034.03\n",
       "3          Hope St & Union Ave           5187.03\n",
       "4              6 Ave & W 33 St           6364.07"
      ]
     },
     "execution_count": 56,
     "metadata": {},
     "output_type": "execute_result"
    }
   ],
   "source": [
    "station_reference_df.head()"
   ]
  },
  {
   "cell_type": "code",
   "execution_count": 58,
   "id": "61a62de6-2b67-41f0-83ee-16e60a38462d",
   "metadata": {
    "tags": []
   },
   "outputs": [],
   "source": [
    "station_name_to_id = dict(zip(station_reference_df['start_station_name'], station_reference_df['start_station_id']))"
   ]
  },
  {
   "cell_type": "code",
   "execution_count": 60,
   "id": "bcbe45f8-b11e-48fc-ab6c-aa892c9fed3a",
   "metadata": {
    "tags": []
   },
   "outputs": [],
   "source": [
    "subset_df['start_station_id'] = subset_df.apply(\n",
    "    lambda row: station_name_to_id.get(row['start_station_name'], row['start_station_id']),\n",
    "    axis=1\n",
    ")"
   ]
  },
  {
   "cell_type": "code",
   "execution_count": 62,
   "id": "823bcf6c-e542-47b9-94fb-a007bf10c417",
   "metadata": {
    "tags": []
   },
   "outputs": [],
   "source": [
    "end_station_reference_df = subset_df[['end_station_name', 'end_station_id']].dropna().drop_duplicates()\n",
    "end_station_name_to_id = dict(zip(end_station_reference_df['end_station_name'], end_station_reference_df['end_station_id']))"
   ]
  },
  {
   "cell_type": "code",
   "execution_count": 64,
   "id": "2143115a-5870-46c8-8617-8c81fc7253de",
   "metadata": {
    "tags": []
   },
   "outputs": [],
   "source": [
    "subset_df['end_station_id'] = subset_df.apply(\n",
    "    lambda row: end_station_name_to_id.get(row['end_station_name'], row['end_station_id']),\n",
    "    axis=1\n",
    ")"
   ]
  },
  {
   "cell_type": "code",
   "execution_count": 66,
   "id": "d163b5b5-dd6e-4a90-a03f-bebc18103464",
   "metadata": {
    "tags": []
   },
   "outputs": [
    {
     "name": "stdout",
     "output_type": "stream",
     "text": [
      "Remaining NaN values in start_station_id: 0\n",
      "Remaining NaN values in end_station_id: 0\n"
     ]
    }
   ],
   "source": [
    "print(\"Remaining NaN values in start_station_id:\", subset_df['start_station_id'].isnull().sum())\n",
    "print(\"Remaining NaN values in end_station_id:\", subset_df['end_station_id'].isnull().sum())"
   ]
  },
  {
   "cell_type": "code",
   "execution_count": 68,
   "id": "c6a59269-197b-4740-9e0f-bc5d4848db95",
   "metadata": {
    "tags": []
   },
   "outputs": [
    {
     "data": {
      "text/html": [
       "<div>\n",
       "<style scoped>\n",
       "    .dataframe tbody tr th:only-of-type {\n",
       "        vertical-align: middle;\n",
       "    }\n",
       "\n",
       "    .dataframe tbody tr th {\n",
       "        vertical-align: top;\n",
       "    }\n",
       "\n",
       "    .dataframe thead th {\n",
       "        text-align: right;\n",
       "    }\n",
       "</style>\n",
       "<table border=\"1\" class=\"dataframe\">\n",
       "  <thead>\n",
       "    <tr style=\"text-align: right;\">\n",
       "      <th></th>\n",
       "      <th>start_station_name</th>\n",
       "      <th>start_station_id</th>\n",
       "      <th>end_station_name</th>\n",
       "      <th>end_station_id</th>\n",
       "    </tr>\n",
       "  </thead>\n",
       "  <tbody>\n",
       "    <tr>\n",
       "      <th>0</th>\n",
       "      <td>Central Park West &amp; W 85 St</td>\n",
       "      <td>7354.01</td>\n",
       "      <td>Grand Army Plaza &amp; Central Park S</td>\n",
       "      <td>6839.10</td>\n",
       "    </tr>\n",
       "    <tr>\n",
       "      <th>1</th>\n",
       "      <td>W 4 St &amp; 7 Ave S</td>\n",
       "      <td>5880.02</td>\n",
       "      <td>W 16 St &amp; The High Line</td>\n",
       "      <td>6233.05</td>\n",
       "    </tr>\n",
       "    <tr>\n",
       "      <th>2</th>\n",
       "      <td>Menahan St &amp; Onderdonk Ave</td>\n",
       "      <td>5034.03</td>\n",
       "      <td>N 12 St &amp; Bedford Ave</td>\n",
       "      <td>5450.04</td>\n",
       "    </tr>\n",
       "    <tr>\n",
       "      <th>3</th>\n",
       "      <td>Hope St &amp; Union Ave</td>\n",
       "      <td>5187.03</td>\n",
       "      <td>38 St &amp; 30 Ave</td>\n",
       "      <td>6850.01</td>\n",
       "    </tr>\n",
       "    <tr>\n",
       "      <th>4</th>\n",
       "      <td>6 Ave &amp; W 33 St</td>\n",
       "      <td>6364.07</td>\n",
       "      <td>Broadway &amp; W 29 St</td>\n",
       "      <td>6289.06</td>\n",
       "    </tr>\n",
       "  </tbody>\n",
       "</table>\n",
       "</div>"
      ],
      "text/plain": [
       "            start_station_name  start_station_id  \\\n",
       "0  Central Park West & W 85 St           7354.01   \n",
       "1             W 4 St & 7 Ave S           5880.02   \n",
       "2   Menahan St & Onderdonk Ave           5034.03   \n",
       "3          Hope St & Union Ave           5187.03   \n",
       "4              6 Ave & W 33 St           6364.07   \n",
       "\n",
       "                    end_station_name  end_station_id  \n",
       "0  Grand Army Plaza & Central Park S         6839.10  \n",
       "1            W 16 St & The High Line         6233.05  \n",
       "2              N 12 St & Bedford Ave         5450.04  \n",
       "3                     38 St & 30 Ave         6850.01  \n",
       "4                 Broadway & W 29 St         6289.06  "
      ]
     },
     "execution_count": 68,
     "metadata": {},
     "output_type": "execute_result"
    }
   ],
   "source": [
    "subset_df[['start_station_name', 'start_station_id', 'end_station_name', 'end_station_id']].head()"
   ]
  },
  {
   "cell_type": "code",
   "execution_count": 70,
   "id": "a119fc82-3db7-4d81-8ca6-1c37b5be8ec2",
   "metadata": {
    "tags": []
   },
   "outputs": [],
   "source": [
    "subset_df['start_station_id'] = subset_df['start_station_id'].astype(float).astype(int)\n",
    "subset_df['end_station_id'] = subset_df['end_station_id'].astype(float).astype(int)"
   ]
  },
  {
   "cell_type": "code",
   "execution_count": 72,
   "id": "c9e6204c-07f6-480f-8585-c78dd4ab2f0e",
   "metadata": {
    "tags": []
   },
   "outputs": [
    {
     "data": {
      "text/html": [
       "<div>\n",
       "<style scoped>\n",
       "    .dataframe tbody tr th:only-of-type {\n",
       "        vertical-align: middle;\n",
       "    }\n",
       "\n",
       "    .dataframe tbody tr th {\n",
       "        vertical-align: top;\n",
       "    }\n",
       "\n",
       "    .dataframe thead th {\n",
       "        text-align: right;\n",
       "    }\n",
       "</style>\n",
       "<table border=\"1\" class=\"dataframe\">\n",
       "  <thead>\n",
       "    <tr style=\"text-align: right;\">\n",
       "      <th></th>\n",
       "      <th>start_station_id</th>\n",
       "      <th>end_station_id</th>\n",
       "    </tr>\n",
       "  </thead>\n",
       "  <tbody>\n",
       "    <tr>\n",
       "      <th>0</th>\n",
       "      <td>7354</td>\n",
       "      <td>6839</td>\n",
       "    </tr>\n",
       "    <tr>\n",
       "      <th>1</th>\n",
       "      <td>5880</td>\n",
       "      <td>6233</td>\n",
       "    </tr>\n",
       "    <tr>\n",
       "      <th>2</th>\n",
       "      <td>5034</td>\n",
       "      <td>5450</td>\n",
       "    </tr>\n",
       "    <tr>\n",
       "      <th>3</th>\n",
       "      <td>5187</td>\n",
       "      <td>6850</td>\n",
       "    </tr>\n",
       "    <tr>\n",
       "      <th>4</th>\n",
       "      <td>6364</td>\n",
       "      <td>6289</td>\n",
       "    </tr>\n",
       "  </tbody>\n",
       "</table>\n",
       "</div>"
      ],
      "text/plain": [
       "   start_station_id  end_station_id\n",
       "0              7354            6839\n",
       "1              5880            6233\n",
       "2              5034            5450\n",
       "3              5187            6850\n",
       "4              6364            6289"
      ]
     },
     "execution_count": 72,
     "metadata": {},
     "output_type": "execute_result"
    }
   ],
   "source": [
    "subset_df[['start_station_id', 'end_station_id']].head()"
   ]
  },
  {
   "cell_type": "code",
   "execution_count": 74,
   "id": "5462670b-ed76-427f-a52a-7a9dd851ae92",
   "metadata": {
    "tags": []
   },
   "outputs": [
    {
     "name": "stdout",
     "output_type": "stream",
     "text": [
      "start_station_id    int32\n",
      "end_station_id      int32\n",
      "dtype: object\n"
     ]
    }
   ],
   "source": [
    "print(subset_df[['start_station_id', 'end_station_id']].dtypes)"
   ]
  },
  {
   "cell_type": "code",
   "execution_count": 82,
   "id": "34b1ab0c-ef11-4dfe-9f19-36c9efc5c679",
   "metadata": {
    "tags": []
   },
   "outputs": [
    {
     "name": "stdout",
     "output_type": "stream",
     "text": [
      "<bound method NDFrame.head of                   ride_id  rideable_type               started_at  \\\n",
      "0        25098D3FFB6B3BBD  electric_bike  2022-07-04 17:00:41.408   \n",
      "1        FCED437CC64165BA   classic_bike  2022-01-14 09:18:35.838   \n",
      "2        22DE76A19BAD1251  electric_bike  2022-10-09 17:35:17.370   \n",
      "3        1A009107ED10A6FB  electric_bike  2022-08-05 19:10:15.391   \n",
      "4        2B63FBA517507650   classic_bike  2022-05-10 15:28:01.330   \n",
      "...                   ...            ...                      ...   \n",
      "7459697  2399951166DFCE8D   classic_bike  2022-09-09 10:25:02.087   \n",
      "7459698  7D4388405E697D82   classic_bike  2022-06-10 18:37:51.609   \n",
      "7459699  29EF8C9CC7CCE34B   classic_bike  2022-11-21 18:36:15.788   \n",
      "7459700  5E2D4D6F5F4A778E  electric_bike  2022-08-23 15:52:52.913   \n",
      "7459701  91EF495E568A6AD8  electric_bike  2022-11-09 19:59:26.001   \n",
      "\n",
      "                        ended_at             start_station_name  \\\n",
      "0        2022-07-04 17:19:00.525    Central Park West & W 85 St   \n",
      "1        2022-01-14 09:27:58.570               W 4 St & 7 Ave S   \n",
      "2        2022-10-09 18:08:06.487     Menahan St & Onderdonk Ave   \n",
      "3        2022-08-05 19:38:10.967            Hope St & Union Ave   \n",
      "4        2022-05-10 15:29:29.183                6 Ave & W 33 St   \n",
      "...                          ...                            ...   \n",
      "7459697  2022-09-09 10:32:04.677               W 26 St & 10 Ave   \n",
      "7459698  2022-06-10 18:48:28.071        Graham Ave & Herbert St   \n",
      "7459699  2022-11-21 18:40:22.958  North Moore St & Greenwich St   \n",
      "7459700  2022-08-23 15:59:23.954     Schermerhorn St & Court St   \n",
      "7459701  2022-11-09 20:24:38.860               W 54 St & 11 Ave   \n",
      "\n",
      "         start_station_id                   end_station_name  end_station_id  \\\n",
      "0                    7354  Grand Army Plaza & Central Park S            6839   \n",
      "1                    5880            W 16 St & The High Line            6233   \n",
      "2                    5034              N 12 St & Bedford Ave            5450   \n",
      "3                    5187                     38 St & 30 Ave            6850   \n",
      "4                    6364                 Broadway & W 29 St            6289   \n",
      "...                   ...                                ...             ...   \n",
      "7459697              6382                    W 35 St & 8 Ave            6526   \n",
      "7459698              5403              N 12 St & Bedford Ave            5450   \n",
      "7459699              5470               Hudson St & Reade St            5359   \n",
      "7459700              4565                  Sands St & Jay St            4821   \n",
      "7459701              6955              Washington Pl & 6 Ave            5838   \n",
      "\n",
      "         start_lat  start_lng    end_lat    end_lng member_casual        date  \\\n",
      "0        40.784760 -73.969862  40.764397 -73.973715        casual  2022-07-04   \n",
      "1        40.734011 -74.002939  40.743349 -74.006818        member  2022-01-14   \n",
      "2        40.705580 -73.909559  40.720798 -73.954847        member  2022-10-09   \n",
      "3        40.711662 -73.951458  40.764175 -73.915840        member  2022-08-05   \n",
      "4        40.749013 -73.988484  40.746201 -73.988557        member  2022-05-10   \n",
      "...            ...        ...        ...        ...           ...         ...   \n",
      "7459697  40.749718 -74.002950  40.752762 -73.992805        member  2022-09-09   \n",
      "7459698  40.719293 -73.945004  40.720798 -73.954847        member  2022-06-10   \n",
      "7459699  40.720195 -74.010301  40.716250 -74.009106        member  2022-11-21   \n",
      "7459700  40.691029 -73.991834  40.700119 -73.986200        member  2022-08-23   \n",
      "7459701  40.767833 -73.992726  40.732241 -74.000264        member  2022-11-09   \n",
      "\n",
      "         Date  AvgTemp(C)     _merge  \n",
      "0         NaN         NaN  left_only  \n",
      "1         NaN         NaN  left_only  \n",
      "2         NaN         NaN  left_only  \n",
      "3         NaN         NaN  left_only  \n",
      "4         NaN         NaN  left_only  \n",
      "...       ...         ...        ...  \n",
      "7459697   NaN         NaN  left_only  \n",
      "7459698   NaN         NaN  left_only  \n",
      "7459699   NaN         NaN  left_only  \n",
      "7459700   NaN         NaN  left_only  \n",
      "7459701   NaN         NaN  left_only  \n",
      "\n",
      "[7459702 rows x 17 columns]>\n"
     ]
    }
   ],
   "source": [
    "print(subset_df.head)"
   ]
  },
  {
   "cell_type": "code",
   "execution_count": 84,
   "id": "ada6bbd4-d94c-4844-8fc5-c8db75955149",
   "metadata": {
    "tags": []
   },
   "outputs": [
    {
     "name": "stdout",
     "output_type": "stream",
     "text": [
      "Missing values in date column: 0\n"
     ]
    }
   ],
   "source": [
    "# Check for missing or invalid values in the 'date' column\n",
    "print(\"Missing values in date column:\", subset_df['date'].isnull().sum())"
   ]
  },
  {
   "cell_type": "code",
   "execution_count": 86,
   "id": "7d519454-be68-4b1b-afa0-dd2d9df67fd5",
   "metadata": {
    "tags": []
   },
   "outputs": [
    {
     "data": {
      "text/html": [
       "<div>\n",
       "<style scoped>\n",
       "    .dataframe tbody tr th:only-of-type {\n",
       "        vertical-align: middle;\n",
       "    }\n",
       "\n",
       "    .dataframe tbody tr th {\n",
       "        vertical-align: top;\n",
       "    }\n",
       "\n",
       "    .dataframe thead th {\n",
       "        text-align: right;\n",
       "    }\n",
       "</style>\n",
       "<table border=\"1\" class=\"dataframe\">\n",
       "  <thead>\n",
       "    <tr style=\"text-align: right;\">\n",
       "      <th></th>\n",
       "      <th>date</th>\n",
       "    </tr>\n",
       "  </thead>\n",
       "  <tbody>\n",
       "    <tr>\n",
       "      <th>0</th>\n",
       "      <td>2022-07-04</td>\n",
       "    </tr>\n",
       "    <tr>\n",
       "      <th>1</th>\n",
       "      <td>2022-01-14</td>\n",
       "    </tr>\n",
       "    <tr>\n",
       "      <th>2</th>\n",
       "      <td>2022-10-09</td>\n",
       "    </tr>\n",
       "    <tr>\n",
       "      <th>3</th>\n",
       "      <td>2022-08-05</td>\n",
       "    </tr>\n",
       "    <tr>\n",
       "      <th>4</th>\n",
       "      <td>2022-05-10</td>\n",
       "    </tr>\n",
       "  </tbody>\n",
       "</table>\n",
       "</div>"
      ],
      "text/plain": [
       "         date\n",
       "0  2022-07-04\n",
       "1  2022-01-14\n",
       "2  2022-10-09\n",
       "3  2022-08-05\n",
       "4  2022-05-10"
      ]
     },
     "execution_count": 86,
     "metadata": {},
     "output_type": "execute_result"
    }
   ],
   "source": [
    "subset_df[['date']].head()"
   ]
  },
  {
   "cell_type": "code",
   "execution_count": 90,
   "id": "97f8da57-624f-4706-9914-1070c1ee8851",
   "metadata": {
    "tags": []
   },
   "outputs": [],
   "source": [
    "weather_df = pd.read_csv('laguardia_weather_2022.csv')"
   ]
  },
  {
   "cell_type": "code",
   "execution_count": 92,
   "id": "09494a8c-20b7-4768-b573-bea1519475d1",
   "metadata": {
    "tags": []
   },
   "outputs": [
    {
     "ename": "KeyError",
     "evalue": "'date'",
     "output_type": "error",
     "traceback": [
      "\u001b[1;31m---------------------------------------------------------------------------\u001b[0m",
      "\u001b[1;31mKeyError\u001b[0m                                  Traceback (most recent call last)",
      "File \u001b[1;32m~\\anaconda3\\Lib\\site-packages\\pandas\\core\\indexes\\base.py:3805\u001b[0m, in \u001b[0;36mIndex.get_loc\u001b[1;34m(self, key)\u001b[0m\n\u001b[0;32m   3804\u001b[0m \u001b[38;5;28;01mtry\u001b[39;00m:\n\u001b[1;32m-> 3805\u001b[0m     \u001b[38;5;28;01mreturn\u001b[39;00m \u001b[38;5;28mself\u001b[39m\u001b[38;5;241m.\u001b[39m_engine\u001b[38;5;241m.\u001b[39mget_loc(casted_key)\n\u001b[0;32m   3806\u001b[0m \u001b[38;5;28;01mexcept\u001b[39;00m \u001b[38;5;167;01mKeyError\u001b[39;00m \u001b[38;5;28;01mas\u001b[39;00m err:\n",
      "File \u001b[1;32mindex.pyx:167\u001b[0m, in \u001b[0;36mpandas._libs.index.IndexEngine.get_loc\u001b[1;34m()\u001b[0m\n",
      "File \u001b[1;32mindex.pyx:196\u001b[0m, in \u001b[0;36mpandas._libs.index.IndexEngine.get_loc\u001b[1;34m()\u001b[0m\n",
      "File \u001b[1;32mpandas\\\\_libs\\\\hashtable_class_helper.pxi:7081\u001b[0m, in \u001b[0;36mpandas._libs.hashtable.PyObjectHashTable.get_item\u001b[1;34m()\u001b[0m\n",
      "File \u001b[1;32mpandas\\\\_libs\\\\hashtable_class_helper.pxi:7089\u001b[0m, in \u001b[0;36mpandas._libs.hashtable.PyObjectHashTable.get_item\u001b[1;34m()\u001b[0m\n",
      "\u001b[1;31mKeyError\u001b[0m: 'date'",
      "\nThe above exception was the direct cause of the following exception:\n",
      "\u001b[1;31mKeyError\u001b[0m                                  Traceback (most recent call last)",
      "Cell \u001b[1;32mIn[92], line 1\u001b[0m\n\u001b[1;32m----> 1\u001b[0m weather_df[\u001b[38;5;124m'\u001b[39m\u001b[38;5;124mdate\u001b[39m\u001b[38;5;124m'\u001b[39m] \u001b[38;5;241m=\u001b[39m pd\u001b[38;5;241m.\u001b[39mto_datetime(weather_df[\u001b[38;5;124m'\u001b[39m\u001b[38;5;124mdate\u001b[39m\u001b[38;5;124m'\u001b[39m])\n\u001b[0;32m      2\u001b[0m subset_df[\u001b[38;5;124m'\u001b[39m\u001b[38;5;124mdate\u001b[39m\u001b[38;5;124m'\u001b[39m] \u001b[38;5;241m=\u001b[39m pd\u001b[38;5;241m.\u001b[39mto_datetime(subset_df[\u001b[38;5;124m'\u001b[39m\u001b[38;5;124mdate\u001b[39m\u001b[38;5;124m'\u001b[39m])\n",
      "File \u001b[1;32m~\\anaconda3\\Lib\\site-packages\\pandas\\core\\frame.py:4102\u001b[0m, in \u001b[0;36mDataFrame.__getitem__\u001b[1;34m(self, key)\u001b[0m\n\u001b[0;32m   4100\u001b[0m \u001b[38;5;28;01mif\u001b[39;00m \u001b[38;5;28mself\u001b[39m\u001b[38;5;241m.\u001b[39mcolumns\u001b[38;5;241m.\u001b[39mnlevels \u001b[38;5;241m>\u001b[39m \u001b[38;5;241m1\u001b[39m:\n\u001b[0;32m   4101\u001b[0m     \u001b[38;5;28;01mreturn\u001b[39;00m \u001b[38;5;28mself\u001b[39m\u001b[38;5;241m.\u001b[39m_getitem_multilevel(key)\n\u001b[1;32m-> 4102\u001b[0m indexer \u001b[38;5;241m=\u001b[39m \u001b[38;5;28mself\u001b[39m\u001b[38;5;241m.\u001b[39mcolumns\u001b[38;5;241m.\u001b[39mget_loc(key)\n\u001b[0;32m   4103\u001b[0m \u001b[38;5;28;01mif\u001b[39;00m is_integer(indexer):\n\u001b[0;32m   4104\u001b[0m     indexer \u001b[38;5;241m=\u001b[39m [indexer]\n",
      "File \u001b[1;32m~\\anaconda3\\Lib\\site-packages\\pandas\\core\\indexes\\base.py:3812\u001b[0m, in \u001b[0;36mIndex.get_loc\u001b[1;34m(self, key)\u001b[0m\n\u001b[0;32m   3807\u001b[0m     \u001b[38;5;28;01mif\u001b[39;00m \u001b[38;5;28misinstance\u001b[39m(casted_key, \u001b[38;5;28mslice\u001b[39m) \u001b[38;5;129;01mor\u001b[39;00m (\n\u001b[0;32m   3808\u001b[0m         \u001b[38;5;28misinstance\u001b[39m(casted_key, abc\u001b[38;5;241m.\u001b[39mIterable)\n\u001b[0;32m   3809\u001b[0m         \u001b[38;5;129;01mand\u001b[39;00m \u001b[38;5;28many\u001b[39m(\u001b[38;5;28misinstance\u001b[39m(x, \u001b[38;5;28mslice\u001b[39m) \u001b[38;5;28;01mfor\u001b[39;00m x \u001b[38;5;129;01min\u001b[39;00m casted_key)\n\u001b[0;32m   3810\u001b[0m     ):\n\u001b[0;32m   3811\u001b[0m         \u001b[38;5;28;01mraise\u001b[39;00m InvalidIndexError(key)\n\u001b[1;32m-> 3812\u001b[0m     \u001b[38;5;28;01mraise\u001b[39;00m \u001b[38;5;167;01mKeyError\u001b[39;00m(key) \u001b[38;5;28;01mfrom\u001b[39;00m \u001b[38;5;21;01merr\u001b[39;00m\n\u001b[0;32m   3813\u001b[0m \u001b[38;5;28;01mexcept\u001b[39;00m \u001b[38;5;167;01mTypeError\u001b[39;00m:\n\u001b[0;32m   3814\u001b[0m     \u001b[38;5;66;03m# If we have a listlike key, _check_indexing_error will raise\u001b[39;00m\n\u001b[0;32m   3815\u001b[0m     \u001b[38;5;66;03m#  InvalidIndexError. Otherwise we fall through and re-raise\u001b[39;00m\n\u001b[0;32m   3816\u001b[0m     \u001b[38;5;66;03m#  the TypeError.\u001b[39;00m\n\u001b[0;32m   3817\u001b[0m     \u001b[38;5;28mself\u001b[39m\u001b[38;5;241m.\u001b[39m_check_indexing_error(key)\n",
      "\u001b[1;31mKeyError\u001b[0m: 'date'"
     ]
    }
   ],
   "source": [
    "weather_df['date'] = pd.to_datetime(weather_df['date'])\n",
    "subset_df['date'] = pd.to_datetime(subset_df['date'])"
   ]
  },
  {
   "cell_type": "code",
   "execution_count": 94,
   "id": "7e7a679a-f512-44b3-880b-c81d6afea6e8",
   "metadata": {
    "tags": []
   },
   "outputs": [
    {
     "name": "stdout",
     "output_type": "stream",
     "text": [
      "Index(['Date', 'AvgTemp(C)'], dtype='object')\n"
     ]
    }
   ],
   "source": [
    "print(weather_df.columns)"
   ]
  },
  {
   "cell_type": "code",
   "execution_count": 96,
   "id": "eef5a52d-7aef-40e5-bd78-cd4c05d4c2ad",
   "metadata": {
    "tags": []
   },
   "outputs": [],
   "source": [
    "# Rename the 'Date' column to 'date'\n",
    "weather_df.rename(columns={'Date': 'date'}, inplace=True)"
   ]
  },
  {
   "cell_type": "code",
   "execution_count": 98,
   "id": "1e0203c0-1850-4dfa-8a40-54315d7c62e3",
   "metadata": {
    "tags": []
   },
   "outputs": [],
   "source": [
    "# Convert the date columns in both datasets to datetime format\n",
    "subset_df['date'] = pd.to_datetime(subset_df['date'], format='%Y-%m-%d')\n",
    "weather_df['date'] = pd.to_datetime(weather_df['date'], format='%Y-%m-%d')"
   ]
  },
  {
   "cell_type": "code",
   "execution_count": 100,
   "id": "218272fb-7af5-41b7-8621-a2dc3d94ae73",
   "metadata": {
    "tags": []
   },
   "outputs": [],
   "source": [
    "merged_df = pd.merge(subset_df, weather_df, on='date', how='left')"
   ]
  },
  {
   "cell_type": "code",
   "execution_count": 102,
   "id": "239c3aff-a7ae-433b-85d0-04eeb6364745",
   "metadata": {
    "tags": []
   },
   "outputs": [
    {
     "data": {
      "text/html": [
       "<div>\n",
       "<style scoped>\n",
       "    .dataframe tbody tr th:only-of-type {\n",
       "        vertical-align: middle;\n",
       "    }\n",
       "\n",
       "    .dataframe tbody tr th {\n",
       "        vertical-align: top;\n",
       "    }\n",
       "\n",
       "    .dataframe thead th {\n",
       "        text-align: right;\n",
       "    }\n",
       "</style>\n",
       "<table border=\"1\" class=\"dataframe\">\n",
       "  <thead>\n",
       "    <tr style=\"text-align: right;\">\n",
       "      <th></th>\n",
       "      <th>ride_id</th>\n",
       "      <th>rideable_type</th>\n",
       "      <th>started_at</th>\n",
       "      <th>ended_at</th>\n",
       "      <th>start_station_name</th>\n",
       "      <th>start_station_id</th>\n",
       "      <th>end_station_name</th>\n",
       "      <th>end_station_id</th>\n",
       "      <th>start_lat</th>\n",
       "      <th>start_lng</th>\n",
       "      <th>end_lat</th>\n",
       "      <th>end_lng</th>\n",
       "      <th>member_casual</th>\n",
       "      <th>date</th>\n",
       "      <th>Date</th>\n",
       "      <th>AvgTemp(C)_x</th>\n",
       "      <th>_merge</th>\n",
       "      <th>AvgTemp(C)_y</th>\n",
       "    </tr>\n",
       "  </thead>\n",
       "  <tbody>\n",
       "    <tr>\n",
       "      <th>0</th>\n",
       "      <td>25098D3FFB6B3BBD</td>\n",
       "      <td>electric_bike</td>\n",
       "      <td>2022-07-04 17:00:41.408</td>\n",
       "      <td>2022-07-04 17:19:00.525</td>\n",
       "      <td>Central Park West &amp; W 85 St</td>\n",
       "      <td>7354</td>\n",
       "      <td>Grand Army Plaza &amp; Central Park S</td>\n",
       "      <td>6839</td>\n",
       "      <td>40.784760</td>\n",
       "      <td>-73.969862</td>\n",
       "      <td>40.764397</td>\n",
       "      <td>-73.973715</td>\n",
       "      <td>casual</td>\n",
       "      <td>2022-07-04</td>\n",
       "      <td>NaN</td>\n",
       "      <td>NaN</td>\n",
       "      <td>left_only</td>\n",
       "      <td>25.6</td>\n",
       "    </tr>\n",
       "    <tr>\n",
       "      <th>1</th>\n",
       "      <td>FCED437CC64165BA</td>\n",
       "      <td>classic_bike</td>\n",
       "      <td>2022-01-14 09:18:35.838</td>\n",
       "      <td>2022-01-14 09:27:58.570</td>\n",
       "      <td>W 4 St &amp; 7 Ave S</td>\n",
       "      <td>5880</td>\n",
       "      <td>W 16 St &amp; The High Line</td>\n",
       "      <td>6233</td>\n",
       "      <td>40.734011</td>\n",
       "      <td>-74.002939</td>\n",
       "      <td>40.743349</td>\n",
       "      <td>-74.006818</td>\n",
       "      <td>member</td>\n",
       "      <td>2022-01-14</td>\n",
       "      <td>NaN</td>\n",
       "      <td>NaN</td>\n",
       "      <td>left_only</td>\n",
       "      <td>4.8</td>\n",
       "    </tr>\n",
       "    <tr>\n",
       "      <th>2</th>\n",
       "      <td>22DE76A19BAD1251</td>\n",
       "      <td>electric_bike</td>\n",
       "      <td>2022-10-09 17:35:17.370</td>\n",
       "      <td>2022-10-09 18:08:06.487</td>\n",
       "      <td>Menahan St &amp; Onderdonk Ave</td>\n",
       "      <td>5034</td>\n",
       "      <td>N 12 St &amp; Bedford Ave</td>\n",
       "      <td>5450</td>\n",
       "      <td>40.705580</td>\n",
       "      <td>-73.909559</td>\n",
       "      <td>40.720798</td>\n",
       "      <td>-73.954847</td>\n",
       "      <td>member</td>\n",
       "      <td>2022-10-09</td>\n",
       "      <td>NaN</td>\n",
       "      <td>NaN</td>\n",
       "      <td>left_only</td>\n",
       "      <td>12.3</td>\n",
       "    </tr>\n",
       "    <tr>\n",
       "      <th>3</th>\n",
       "      <td>1A009107ED10A6FB</td>\n",
       "      <td>electric_bike</td>\n",
       "      <td>2022-08-05 19:10:15.391</td>\n",
       "      <td>2022-08-05 19:38:10.967</td>\n",
       "      <td>Hope St &amp; Union Ave</td>\n",
       "      <td>5187</td>\n",
       "      <td>38 St &amp; 30 Ave</td>\n",
       "      <td>6850</td>\n",
       "      <td>40.711662</td>\n",
       "      <td>-73.951458</td>\n",
       "      <td>40.764175</td>\n",
       "      <td>-73.915840</td>\n",
       "      <td>member</td>\n",
       "      <td>2022-08-05</td>\n",
       "      <td>NaN</td>\n",
       "      <td>NaN</td>\n",
       "      <td>left_only</td>\n",
       "      <td>29.3</td>\n",
       "    </tr>\n",
       "    <tr>\n",
       "      <th>4</th>\n",
       "      <td>2B63FBA517507650</td>\n",
       "      <td>classic_bike</td>\n",
       "      <td>2022-05-10 15:28:01.330</td>\n",
       "      <td>2022-05-10 15:29:29.183</td>\n",
       "      <td>6 Ave &amp; W 33 St</td>\n",
       "      <td>6364</td>\n",
       "      <td>Broadway &amp; W 29 St</td>\n",
       "      <td>6289</td>\n",
       "      <td>40.749013</td>\n",
       "      <td>-73.988484</td>\n",
       "      <td>40.746201</td>\n",
       "      <td>-73.988557</td>\n",
       "      <td>member</td>\n",
       "      <td>2022-05-10</td>\n",
       "      <td>NaN</td>\n",
       "      <td>NaN</td>\n",
       "      <td>left_only</td>\n",
       "      <td>15.4</td>\n",
       "    </tr>\n",
       "  </tbody>\n",
       "</table>\n",
       "</div>"
      ],
      "text/plain": [
       "            ride_id  rideable_type               started_at  \\\n",
       "0  25098D3FFB6B3BBD  electric_bike  2022-07-04 17:00:41.408   \n",
       "1  FCED437CC64165BA   classic_bike  2022-01-14 09:18:35.838   \n",
       "2  22DE76A19BAD1251  electric_bike  2022-10-09 17:35:17.370   \n",
       "3  1A009107ED10A6FB  electric_bike  2022-08-05 19:10:15.391   \n",
       "4  2B63FBA517507650   classic_bike  2022-05-10 15:28:01.330   \n",
       "\n",
       "                  ended_at           start_station_name  start_station_id  \\\n",
       "0  2022-07-04 17:19:00.525  Central Park West & W 85 St              7354   \n",
       "1  2022-01-14 09:27:58.570             W 4 St & 7 Ave S              5880   \n",
       "2  2022-10-09 18:08:06.487   Menahan St & Onderdonk Ave              5034   \n",
       "3  2022-08-05 19:38:10.967          Hope St & Union Ave              5187   \n",
       "4  2022-05-10 15:29:29.183              6 Ave & W 33 St              6364   \n",
       "\n",
       "                    end_station_name  end_station_id  start_lat  start_lng  \\\n",
       "0  Grand Army Plaza & Central Park S            6839  40.784760 -73.969862   \n",
       "1            W 16 St & The High Line            6233  40.734011 -74.002939   \n",
       "2              N 12 St & Bedford Ave            5450  40.705580 -73.909559   \n",
       "3                     38 St & 30 Ave            6850  40.711662 -73.951458   \n",
       "4                 Broadway & W 29 St            6289  40.749013 -73.988484   \n",
       "\n",
       "     end_lat    end_lng member_casual       date  Date  AvgTemp(C)_x  \\\n",
       "0  40.764397 -73.973715        casual 2022-07-04   NaN           NaN   \n",
       "1  40.743349 -74.006818        member 2022-01-14   NaN           NaN   \n",
       "2  40.720798 -73.954847        member 2022-10-09   NaN           NaN   \n",
       "3  40.764175 -73.915840        member 2022-08-05   NaN           NaN   \n",
       "4  40.746201 -73.988557        member 2022-05-10   NaN           NaN   \n",
       "\n",
       "      _merge  AvgTemp(C)_y  \n",
       "0  left_only          25.6  \n",
       "1  left_only           4.8  \n",
       "2  left_only          12.3  \n",
       "3  left_only          29.3  \n",
       "4  left_only          15.4  "
      ]
     },
     "execution_count": 102,
     "metadata": {},
     "output_type": "execute_result"
    }
   ],
   "source": [
    "merged_df.head()"
   ]
  },
  {
   "cell_type": "code",
   "execution_count": 104,
   "id": "353384b2-978c-41bb-b12f-ee544f1f09d8",
   "metadata": {
    "tags": []
   },
   "outputs": [],
   "source": [
    "# Drop the 'AvgTemp(C)_x' column as it contains NaN values\n",
    "merged_df.drop(columns=['AvgTemp(C)_x'], inplace=True)"
   ]
  },
  {
   "cell_type": "code",
   "execution_count": 106,
   "id": "9e59f560-0c72-4b68-9819-7f41838f7350",
   "metadata": {
    "tags": []
   },
   "outputs": [],
   "source": [
    "# Rename 'AvgTemp(C)_y' to 'AvgTemp(C)'\n",
    "merged_df.rename(columns={'AvgTemp(C)_y': 'AvgTemp(C)'}, inplace=True)"
   ]
  },
  {
   "cell_type": "code",
   "execution_count": 108,
   "id": "3ce23d81-8a2d-4cb0-ba0e-02c399809b77",
   "metadata": {
    "tags": []
   },
   "outputs": [
    {
     "data": {
      "text/html": [
       "<div>\n",
       "<style scoped>\n",
       "    .dataframe tbody tr th:only-of-type {\n",
       "        vertical-align: middle;\n",
       "    }\n",
       "\n",
       "    .dataframe tbody tr th {\n",
       "        vertical-align: top;\n",
       "    }\n",
       "\n",
       "    .dataframe thead th {\n",
       "        text-align: right;\n",
       "    }\n",
       "</style>\n",
       "<table border=\"1\" class=\"dataframe\">\n",
       "  <thead>\n",
       "    <tr style=\"text-align: right;\">\n",
       "      <th></th>\n",
       "      <th>date</th>\n",
       "      <th>AvgTemp(C)</th>\n",
       "      <th>_merge</th>\n",
       "    </tr>\n",
       "  </thead>\n",
       "  <tbody>\n",
       "    <tr>\n",
       "      <th>0</th>\n",
       "      <td>2022-07-04</td>\n",
       "      <td>25.6</td>\n",
       "      <td>left_only</td>\n",
       "    </tr>\n",
       "    <tr>\n",
       "      <th>1</th>\n",
       "      <td>2022-01-14</td>\n",
       "      <td>4.8</td>\n",
       "      <td>left_only</td>\n",
       "    </tr>\n",
       "    <tr>\n",
       "      <th>2</th>\n",
       "      <td>2022-10-09</td>\n",
       "      <td>12.3</td>\n",
       "      <td>left_only</td>\n",
       "    </tr>\n",
       "    <tr>\n",
       "      <th>3</th>\n",
       "      <td>2022-08-05</td>\n",
       "      <td>29.3</td>\n",
       "      <td>left_only</td>\n",
       "    </tr>\n",
       "    <tr>\n",
       "      <th>4</th>\n",
       "      <td>2022-05-10</td>\n",
       "      <td>15.4</td>\n",
       "      <td>left_only</td>\n",
       "    </tr>\n",
       "  </tbody>\n",
       "</table>\n",
       "</div>"
      ],
      "text/plain": [
       "        date  AvgTemp(C)     _merge\n",
       "0 2022-07-04        25.6  left_only\n",
       "1 2022-01-14         4.8  left_only\n",
       "2 2022-10-09        12.3  left_only\n",
       "3 2022-08-05        29.3  left_only\n",
       "4 2022-05-10        15.4  left_only"
      ]
     },
     "execution_count": 108,
     "metadata": {},
     "output_type": "execute_result"
    }
   ],
   "source": [
    "# Check the first few rows after cleaning\n",
    "merged_df[['date', 'AvgTemp(C)', '_merge']].head()"
   ]
  },
  {
   "cell_type": "code",
   "execution_count": 110,
   "id": "9fda5a54-dd75-4040-bf03-cfd15a234fe9",
   "metadata": {
    "tags": []
   },
   "outputs": [
    {
     "data": {
      "text/html": [
       "<div>\n",
       "<style scoped>\n",
       "    .dataframe tbody tr th:only-of-type {\n",
       "        vertical-align: middle;\n",
       "    }\n",
       "\n",
       "    .dataframe tbody tr th {\n",
       "        vertical-align: top;\n",
       "    }\n",
       "\n",
       "    .dataframe thead th {\n",
       "        text-align: right;\n",
       "    }\n",
       "</style>\n",
       "<table border=\"1\" class=\"dataframe\">\n",
       "  <thead>\n",
       "    <tr style=\"text-align: right;\">\n",
       "      <th></th>\n",
       "      <th>ride_id</th>\n",
       "      <th>rideable_type</th>\n",
       "      <th>started_at</th>\n",
       "      <th>ended_at</th>\n",
       "      <th>start_station_name</th>\n",
       "      <th>start_station_id</th>\n",
       "      <th>end_station_name</th>\n",
       "      <th>end_station_id</th>\n",
       "      <th>start_lat</th>\n",
       "      <th>start_lng</th>\n",
       "      <th>end_lat</th>\n",
       "      <th>end_lng</th>\n",
       "      <th>member_casual</th>\n",
       "      <th>date</th>\n",
       "      <th>Date</th>\n",
       "      <th>_merge</th>\n",
       "      <th>AvgTemp(C)</th>\n",
       "    </tr>\n",
       "  </thead>\n",
       "  <tbody>\n",
       "    <tr>\n",
       "      <th>0</th>\n",
       "      <td>25098D3FFB6B3BBD</td>\n",
       "      <td>electric_bike</td>\n",
       "      <td>2022-07-04 17:00:41.408</td>\n",
       "      <td>2022-07-04 17:19:00.525</td>\n",
       "      <td>Central Park West &amp; W 85 St</td>\n",
       "      <td>7354</td>\n",
       "      <td>Grand Army Plaza &amp; Central Park S</td>\n",
       "      <td>6839</td>\n",
       "      <td>40.784760</td>\n",
       "      <td>-73.969862</td>\n",
       "      <td>40.764397</td>\n",
       "      <td>-73.973715</td>\n",
       "      <td>casual</td>\n",
       "      <td>2022-07-04</td>\n",
       "      <td>NaN</td>\n",
       "      <td>left_only</td>\n",
       "      <td>25.6</td>\n",
       "    </tr>\n",
       "    <tr>\n",
       "      <th>1</th>\n",
       "      <td>FCED437CC64165BA</td>\n",
       "      <td>classic_bike</td>\n",
       "      <td>2022-01-14 09:18:35.838</td>\n",
       "      <td>2022-01-14 09:27:58.570</td>\n",
       "      <td>W 4 St &amp; 7 Ave S</td>\n",
       "      <td>5880</td>\n",
       "      <td>W 16 St &amp; The High Line</td>\n",
       "      <td>6233</td>\n",
       "      <td>40.734011</td>\n",
       "      <td>-74.002939</td>\n",
       "      <td>40.743349</td>\n",
       "      <td>-74.006818</td>\n",
       "      <td>member</td>\n",
       "      <td>2022-01-14</td>\n",
       "      <td>NaN</td>\n",
       "      <td>left_only</td>\n",
       "      <td>4.8</td>\n",
       "    </tr>\n",
       "    <tr>\n",
       "      <th>2</th>\n",
       "      <td>22DE76A19BAD1251</td>\n",
       "      <td>electric_bike</td>\n",
       "      <td>2022-10-09 17:35:17.370</td>\n",
       "      <td>2022-10-09 18:08:06.487</td>\n",
       "      <td>Menahan St &amp; Onderdonk Ave</td>\n",
       "      <td>5034</td>\n",
       "      <td>N 12 St &amp; Bedford Ave</td>\n",
       "      <td>5450</td>\n",
       "      <td>40.705580</td>\n",
       "      <td>-73.909559</td>\n",
       "      <td>40.720798</td>\n",
       "      <td>-73.954847</td>\n",
       "      <td>member</td>\n",
       "      <td>2022-10-09</td>\n",
       "      <td>NaN</td>\n",
       "      <td>left_only</td>\n",
       "      <td>12.3</td>\n",
       "    </tr>\n",
       "    <tr>\n",
       "      <th>3</th>\n",
       "      <td>1A009107ED10A6FB</td>\n",
       "      <td>electric_bike</td>\n",
       "      <td>2022-08-05 19:10:15.391</td>\n",
       "      <td>2022-08-05 19:38:10.967</td>\n",
       "      <td>Hope St &amp; Union Ave</td>\n",
       "      <td>5187</td>\n",
       "      <td>38 St &amp; 30 Ave</td>\n",
       "      <td>6850</td>\n",
       "      <td>40.711662</td>\n",
       "      <td>-73.951458</td>\n",
       "      <td>40.764175</td>\n",
       "      <td>-73.915840</td>\n",
       "      <td>member</td>\n",
       "      <td>2022-08-05</td>\n",
       "      <td>NaN</td>\n",
       "      <td>left_only</td>\n",
       "      <td>29.3</td>\n",
       "    </tr>\n",
       "    <tr>\n",
       "      <th>4</th>\n",
       "      <td>2B63FBA517507650</td>\n",
       "      <td>classic_bike</td>\n",
       "      <td>2022-05-10 15:28:01.330</td>\n",
       "      <td>2022-05-10 15:29:29.183</td>\n",
       "      <td>6 Ave &amp; W 33 St</td>\n",
       "      <td>6364</td>\n",
       "      <td>Broadway &amp; W 29 St</td>\n",
       "      <td>6289</td>\n",
       "      <td>40.749013</td>\n",
       "      <td>-73.988484</td>\n",
       "      <td>40.746201</td>\n",
       "      <td>-73.988557</td>\n",
       "      <td>member</td>\n",
       "      <td>2022-05-10</td>\n",
       "      <td>NaN</td>\n",
       "      <td>left_only</td>\n",
       "      <td>15.4</td>\n",
       "    </tr>\n",
       "  </tbody>\n",
       "</table>\n",
       "</div>"
      ],
      "text/plain": [
       "            ride_id  rideable_type               started_at  \\\n",
       "0  25098D3FFB6B3BBD  electric_bike  2022-07-04 17:00:41.408   \n",
       "1  FCED437CC64165BA   classic_bike  2022-01-14 09:18:35.838   \n",
       "2  22DE76A19BAD1251  electric_bike  2022-10-09 17:35:17.370   \n",
       "3  1A009107ED10A6FB  electric_bike  2022-08-05 19:10:15.391   \n",
       "4  2B63FBA517507650   classic_bike  2022-05-10 15:28:01.330   \n",
       "\n",
       "                  ended_at           start_station_name  start_station_id  \\\n",
       "0  2022-07-04 17:19:00.525  Central Park West & W 85 St              7354   \n",
       "1  2022-01-14 09:27:58.570             W 4 St & 7 Ave S              5880   \n",
       "2  2022-10-09 18:08:06.487   Menahan St & Onderdonk Ave              5034   \n",
       "3  2022-08-05 19:38:10.967          Hope St & Union Ave              5187   \n",
       "4  2022-05-10 15:29:29.183              6 Ave & W 33 St              6364   \n",
       "\n",
       "                    end_station_name  end_station_id  start_lat  start_lng  \\\n",
       "0  Grand Army Plaza & Central Park S            6839  40.784760 -73.969862   \n",
       "1            W 16 St & The High Line            6233  40.734011 -74.002939   \n",
       "2              N 12 St & Bedford Ave            5450  40.705580 -73.909559   \n",
       "3                     38 St & 30 Ave            6850  40.711662 -73.951458   \n",
       "4                 Broadway & W 29 St            6289  40.749013 -73.988484   \n",
       "\n",
       "     end_lat    end_lng member_casual       date  Date     _merge  AvgTemp(C)  \n",
       "0  40.764397 -73.973715        casual 2022-07-04   NaN  left_only        25.6  \n",
       "1  40.743349 -74.006818        member 2022-01-14   NaN  left_only         4.8  \n",
       "2  40.720798 -73.954847        member 2022-10-09   NaN  left_only        12.3  \n",
       "3  40.764175 -73.915840        member 2022-08-05   NaN  left_only        29.3  \n",
       "4  40.746201 -73.988557        member 2022-05-10   NaN  left_only        15.4  "
      ]
     },
     "execution_count": 110,
     "metadata": {},
     "output_type": "execute_result"
    }
   ],
   "source": [
    "merged_df.head()"
   ]
  },
  {
   "cell_type": "code",
   "execution_count": 112,
   "id": "b54981bb-4dfc-4d56-b74a-24d71a61dc46",
   "metadata": {
    "tags": []
   },
   "outputs": [],
   "source": [
    "# Drop the 'Date' column\n",
    "merged_df.drop(columns=['Date'], inplace=True)"
   ]
  },
  {
   "cell_type": "code",
   "execution_count": 114,
   "id": "e78717fe-1c55-4176-b25e-b5f22d9540e1",
   "metadata": {
    "tags": []
   },
   "outputs": [
    {
     "data": {
      "text/html": [
       "<div>\n",
       "<style scoped>\n",
       "    .dataframe tbody tr th:only-of-type {\n",
       "        vertical-align: middle;\n",
       "    }\n",
       "\n",
       "    .dataframe tbody tr th {\n",
       "        vertical-align: top;\n",
       "    }\n",
       "\n",
       "    .dataframe thead th {\n",
       "        text-align: right;\n",
       "    }\n",
       "</style>\n",
       "<table border=\"1\" class=\"dataframe\">\n",
       "  <thead>\n",
       "    <tr style=\"text-align: right;\">\n",
       "      <th></th>\n",
       "      <th>date</th>\n",
       "      <th>AvgTemp(C)</th>\n",
       "      <th>_merge</th>\n",
       "    </tr>\n",
       "  </thead>\n",
       "  <tbody>\n",
       "    <tr>\n",
       "      <th>0</th>\n",
       "      <td>2022-07-04</td>\n",
       "      <td>25.6</td>\n",
       "      <td>left_only</td>\n",
       "    </tr>\n",
       "    <tr>\n",
       "      <th>1</th>\n",
       "      <td>2022-01-14</td>\n",
       "      <td>4.8</td>\n",
       "      <td>left_only</td>\n",
       "    </tr>\n",
       "    <tr>\n",
       "      <th>2</th>\n",
       "      <td>2022-10-09</td>\n",
       "      <td>12.3</td>\n",
       "      <td>left_only</td>\n",
       "    </tr>\n",
       "    <tr>\n",
       "      <th>3</th>\n",
       "      <td>2022-08-05</td>\n",
       "      <td>29.3</td>\n",
       "      <td>left_only</td>\n",
       "    </tr>\n",
       "    <tr>\n",
       "      <th>4</th>\n",
       "      <td>2022-05-10</td>\n",
       "      <td>15.4</td>\n",
       "      <td>left_only</td>\n",
       "    </tr>\n",
       "  </tbody>\n",
       "</table>\n",
       "</div>"
      ],
      "text/plain": [
       "        date  AvgTemp(C)     _merge\n",
       "0 2022-07-04        25.6  left_only\n",
       "1 2022-01-14         4.8  left_only\n",
       "2 2022-10-09        12.3  left_only\n",
       "3 2022-08-05        29.3  left_only\n",
       "4 2022-05-10        15.4  left_only"
      ]
     },
     "execution_count": 114,
     "metadata": {},
     "output_type": "execute_result"
    }
   ],
   "source": [
    "# Verify the cleaned dataset\n",
    "merged_df[['date', 'AvgTemp(C)', '_merge']].head()"
   ]
  },
  {
   "cell_type": "code",
   "execution_count": 116,
   "id": "6c5bcaa5-3784-4b65-a110-8cdaa0ea1dd8",
   "metadata": {
    "tags": []
   },
   "outputs": [
    {
     "data": {
      "text/html": [
       "<div>\n",
       "<style scoped>\n",
       "    .dataframe tbody tr th:only-of-type {\n",
       "        vertical-align: middle;\n",
       "    }\n",
       "\n",
       "    .dataframe tbody tr th {\n",
       "        vertical-align: top;\n",
       "    }\n",
       "\n",
       "    .dataframe thead th {\n",
       "        text-align: right;\n",
       "    }\n",
       "</style>\n",
       "<table border=\"1\" class=\"dataframe\">\n",
       "  <thead>\n",
       "    <tr style=\"text-align: right;\">\n",
       "      <th></th>\n",
       "      <th>ride_id</th>\n",
       "      <th>rideable_type</th>\n",
       "      <th>started_at</th>\n",
       "      <th>ended_at</th>\n",
       "      <th>start_station_name</th>\n",
       "      <th>start_station_id</th>\n",
       "      <th>end_station_name</th>\n",
       "      <th>end_station_id</th>\n",
       "      <th>start_lat</th>\n",
       "      <th>start_lng</th>\n",
       "      <th>end_lat</th>\n",
       "      <th>end_lng</th>\n",
       "      <th>member_casual</th>\n",
       "      <th>date</th>\n",
       "      <th>_merge</th>\n",
       "      <th>AvgTemp(C)</th>\n",
       "    </tr>\n",
       "  </thead>\n",
       "  <tbody>\n",
       "    <tr>\n",
       "      <th>0</th>\n",
       "      <td>25098D3FFB6B3BBD</td>\n",
       "      <td>electric_bike</td>\n",
       "      <td>2022-07-04 17:00:41.408</td>\n",
       "      <td>2022-07-04 17:19:00.525</td>\n",
       "      <td>Central Park West &amp; W 85 St</td>\n",
       "      <td>7354</td>\n",
       "      <td>Grand Army Plaza &amp; Central Park S</td>\n",
       "      <td>6839</td>\n",
       "      <td>40.784760</td>\n",
       "      <td>-73.969862</td>\n",
       "      <td>40.764397</td>\n",
       "      <td>-73.973715</td>\n",
       "      <td>casual</td>\n",
       "      <td>2022-07-04</td>\n",
       "      <td>left_only</td>\n",
       "      <td>25.6</td>\n",
       "    </tr>\n",
       "    <tr>\n",
       "      <th>1</th>\n",
       "      <td>FCED437CC64165BA</td>\n",
       "      <td>classic_bike</td>\n",
       "      <td>2022-01-14 09:18:35.838</td>\n",
       "      <td>2022-01-14 09:27:58.570</td>\n",
       "      <td>W 4 St &amp; 7 Ave S</td>\n",
       "      <td>5880</td>\n",
       "      <td>W 16 St &amp; The High Line</td>\n",
       "      <td>6233</td>\n",
       "      <td>40.734011</td>\n",
       "      <td>-74.002939</td>\n",
       "      <td>40.743349</td>\n",
       "      <td>-74.006818</td>\n",
       "      <td>member</td>\n",
       "      <td>2022-01-14</td>\n",
       "      <td>left_only</td>\n",
       "      <td>4.8</td>\n",
       "    </tr>\n",
       "    <tr>\n",
       "      <th>2</th>\n",
       "      <td>22DE76A19BAD1251</td>\n",
       "      <td>electric_bike</td>\n",
       "      <td>2022-10-09 17:35:17.370</td>\n",
       "      <td>2022-10-09 18:08:06.487</td>\n",
       "      <td>Menahan St &amp; Onderdonk Ave</td>\n",
       "      <td>5034</td>\n",
       "      <td>N 12 St &amp; Bedford Ave</td>\n",
       "      <td>5450</td>\n",
       "      <td>40.705580</td>\n",
       "      <td>-73.909559</td>\n",
       "      <td>40.720798</td>\n",
       "      <td>-73.954847</td>\n",
       "      <td>member</td>\n",
       "      <td>2022-10-09</td>\n",
       "      <td>left_only</td>\n",
       "      <td>12.3</td>\n",
       "    </tr>\n",
       "    <tr>\n",
       "      <th>3</th>\n",
       "      <td>1A009107ED10A6FB</td>\n",
       "      <td>electric_bike</td>\n",
       "      <td>2022-08-05 19:10:15.391</td>\n",
       "      <td>2022-08-05 19:38:10.967</td>\n",
       "      <td>Hope St &amp; Union Ave</td>\n",
       "      <td>5187</td>\n",
       "      <td>38 St &amp; 30 Ave</td>\n",
       "      <td>6850</td>\n",
       "      <td>40.711662</td>\n",
       "      <td>-73.951458</td>\n",
       "      <td>40.764175</td>\n",
       "      <td>-73.915840</td>\n",
       "      <td>member</td>\n",
       "      <td>2022-08-05</td>\n",
       "      <td>left_only</td>\n",
       "      <td>29.3</td>\n",
       "    </tr>\n",
       "    <tr>\n",
       "      <th>4</th>\n",
       "      <td>2B63FBA517507650</td>\n",
       "      <td>classic_bike</td>\n",
       "      <td>2022-05-10 15:28:01.330</td>\n",
       "      <td>2022-05-10 15:29:29.183</td>\n",
       "      <td>6 Ave &amp; W 33 St</td>\n",
       "      <td>6364</td>\n",
       "      <td>Broadway &amp; W 29 St</td>\n",
       "      <td>6289</td>\n",
       "      <td>40.749013</td>\n",
       "      <td>-73.988484</td>\n",
       "      <td>40.746201</td>\n",
       "      <td>-73.988557</td>\n",
       "      <td>member</td>\n",
       "      <td>2022-05-10</td>\n",
       "      <td>left_only</td>\n",
       "      <td>15.4</td>\n",
       "    </tr>\n",
       "  </tbody>\n",
       "</table>\n",
       "</div>"
      ],
      "text/plain": [
       "            ride_id  rideable_type               started_at  \\\n",
       "0  25098D3FFB6B3BBD  electric_bike  2022-07-04 17:00:41.408   \n",
       "1  FCED437CC64165BA   classic_bike  2022-01-14 09:18:35.838   \n",
       "2  22DE76A19BAD1251  electric_bike  2022-10-09 17:35:17.370   \n",
       "3  1A009107ED10A6FB  electric_bike  2022-08-05 19:10:15.391   \n",
       "4  2B63FBA517507650   classic_bike  2022-05-10 15:28:01.330   \n",
       "\n",
       "                  ended_at           start_station_name  start_station_id  \\\n",
       "0  2022-07-04 17:19:00.525  Central Park West & W 85 St              7354   \n",
       "1  2022-01-14 09:27:58.570             W 4 St & 7 Ave S              5880   \n",
       "2  2022-10-09 18:08:06.487   Menahan St & Onderdonk Ave              5034   \n",
       "3  2022-08-05 19:38:10.967          Hope St & Union Ave              5187   \n",
       "4  2022-05-10 15:29:29.183              6 Ave & W 33 St              6364   \n",
       "\n",
       "                    end_station_name  end_station_id  start_lat  start_lng  \\\n",
       "0  Grand Army Plaza & Central Park S            6839  40.784760 -73.969862   \n",
       "1            W 16 St & The High Line            6233  40.734011 -74.002939   \n",
       "2              N 12 St & Bedford Ave            5450  40.705580 -73.909559   \n",
       "3                     38 St & 30 Ave            6850  40.711662 -73.951458   \n",
       "4                 Broadway & W 29 St            6289  40.749013 -73.988484   \n",
       "\n",
       "     end_lat    end_lng member_casual       date     _merge  AvgTemp(C)  \n",
       "0  40.764397 -73.973715        casual 2022-07-04  left_only        25.6  \n",
       "1  40.743349 -74.006818        member 2022-01-14  left_only         4.8  \n",
       "2  40.720798 -73.954847        member 2022-10-09  left_only        12.3  \n",
       "3  40.764175 -73.915840        member 2022-08-05  left_only        29.3  \n",
       "4  40.746201 -73.988557        member 2022-05-10  left_only        15.4  "
      ]
     },
     "execution_count": 116,
     "metadata": {},
     "output_type": "execute_result"
    }
   ],
   "source": [
    "merged_df.head()"
   ]
  },
  {
   "cell_type": "code",
   "execution_count": 118,
   "id": "d116b28d-d63d-4114-8a1b-a39dbae516fc",
   "metadata": {
    "tags": []
   },
   "outputs": [],
   "source": [
    "# Save the final cleaned dataset\n",
    "merged_df.to_csv('cleaned_citibike_weather_final.csv', index=False)"
   ]
  },
  {
   "cell_type": "code",
   "execution_count": null,
   "id": "beb44f03-53c2-4d7f-a067-26e5fea72095",
   "metadata": {},
   "outputs": [],
   "source": []
  }
 ],
 "metadata": {
  "kernelspec": {
   "display_name": "Python 3 (ipykernel)",
   "language": "python",
   "name": "python3"
  },
  "language_info": {
   "codemirror_mode": {
    "name": "ipython",
    "version": 3
   },
   "file_extension": ".py",
   "mimetype": "text/x-python",
   "name": "python",
   "nbconvert_exporter": "python",
   "pygments_lexer": "ipython3",
   "version": "3.11.7"
  }
 },
 "nbformat": 4,
 "nbformat_minor": 5
}
